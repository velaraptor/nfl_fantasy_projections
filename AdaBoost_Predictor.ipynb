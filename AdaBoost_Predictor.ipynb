{
 "cells": [
  {
   "cell_type": "code",
   "execution_count": 1,
   "metadata": {},
   "outputs": [],
   "source": [
    "import warnings\n",
    "warnings.simplefilter(\"ignore\")\n",
    "import pandas as pd\n",
    "from sklearn.neighbors import KDTree\n",
    "import tsfresh as ts \n",
    "import matplotlib.pyplot as plt \n",
    "from sklearn.linear_model import Ridge\n",
    "import numpy as np\n",
    "import pymc\n",
    "from tsfresh.feature_extraction import extract_features, MinimalFCParameters, EfficientFCParameters\n",
    "from sklearn.ensemble import GradientBoostingRegressor\n",
    "from sklearn.ensemble import AdaBoostRegressor\n",
    "from tsfresh import extract_features\n",
    "from tsfresh.utilities.dataframe_functions import make_forecasting_frame\n",
    "from tsfresh.utilities.dataframe_functions import impute\n",
    "\n",
    "\n",
    "files = pd.read_excel('/home/velaraptor/Downloads/Raw Data 10yrs (2018).xlsx', header=1)"
   ]
  },
  {
   "cell_type": "code",
   "execution_count": 2,
   "metadata": {},
   "outputs": [
    {
     "name": "stderr",
     "output_type": "stream",
     "text": [
      "100%|██████████| 2011/2011 [01:18<00:00, 24.68it/s]\n"
     ]
    }
   ],
   "source": [
    "files = files.fillna(0)\n",
    "groups = files.groupby('Name')\n",
    "\n",
    "import tqdm\n",
    "\n",
    "forecast_df = []\n",
    "for name, group in tqdm.tqdm(groups):\n",
    "    if len(group) > 1:\n",
    "        group.index = group.Year\n",
    "        df_shift, y = make_forecasting_frame(group[\"FantPt\"], kind=name, max_timeshift=10, rolling_direction=1)\n",
    "        forecast_df.append(df_shift)"
   ]
  },
  {
   "cell_type": "code",
   "execution_count": 3,
   "metadata": {},
   "outputs": [],
   "source": [
    "f = files[files['Year'] != 2018]\n",
    "\n",
    "test_f = files[files['Year'] ==2018].Name.unique()\n",
    "\n",
    "test_ff = files[files['Name'].isin(test_f)]"
   ]
  },
  {
   "cell_type": "code",
   "execution_count": 4,
   "metadata": {},
   "outputs": [
    {
     "name": "stderr",
     "output_type": "stream",
     "text": [
      "Feature Extraction: 100%|██████████| 20/20 [01:19<00:00,  2.12s/it]\n"
     ]
    }
   ],
   "source": [
    "extracted_features = extract_features(f[['Year', 'Name', 'PPG', 'FantPt']], column_id=\"Name\", column_sort=\"Year\", default_fc_parameters=EfficientFCParameters())"
   ]
  },
  {
   "cell_type": "code",
   "execution_count": 5,
   "metadata": {},
   "outputs": [
    {
     "name": "stderr",
     "output_type": "stream",
     "text": [
      "Feature Extraction: 100%|██████████| 20/20 [00:28<00:00,  1.41s/it]\n"
     ]
    }
   ],
   "source": [
    "test_features = extract_features(test_ff[['Year', 'Name', 'PPG', 'FantPt']], column_id=\"Name\", column_sort=\"Year\", default_fc_parameters=EfficientFCParameters())"
   ]
  },
  {
   "cell_type": "code",
   "execution_count": 6,
   "metadata": {},
   "outputs": [],
   "source": [
    "ts_features = extracted_features.reset_index()\n",
    "ts_features_test = test_features.reset_index()"
   ]
  },
  {
   "cell_type": "code",
   "execution_count": 7,
   "metadata": {},
   "outputs": [],
   "source": [
    "ts_features = ts_features.dropna(axis=1)\n",
    "ts_features_test = ts_features_test.dropna(axis=1)\n",
    "\n",
    "ts_features_test = ts_features_test[ts_features.columns]\n",
    "\n",
    "idx = files.groupby(['Name'])['Year'].transform(max) == files['Year']\n",
    "y = files[idx][['Name', 'FantPt', 'Age']]\n",
    "ts_features = ts_features.merge(y, left_on='id',right_on='Name')\n",
    "\n",
    "ts_features_test = ts_features_test.merge(y, left_on='id',right_on='Name')\n"
   ]
  },
  {
   "cell_type": "code",
   "execution_count": null,
   "metadata": {},
   "outputs": [],
   "source": [
    "columns = np.append(ts_features.columns[2:len(ts_features.columns)-3].values, 'Age')\n",
    "ada = AdaBoostRegressor(base_estimator=GradientBoostingRegressor(loss='quantile', max_depth=10, n_estimators=40, criterion='mae', alpha=0.985), n_estimators=25, loss='exponential')\n",
    "ada.fit(ts_features[columns], ts_features['FantPt'])"
   ]
  },
  {
   "cell_type": "code",
   "execution_count": null,
   "metadata": {},
   "outputs": [],
   "source": [
    "fig, ax = plt.subplots(figsize=(30,10))\n",
    "plt.scatter(ada.predict(ts_features[columns]), ts_features['FantPt'])\n",
    "plt.show()"
   ]
  },
  {
   "cell_type": "code",
   "execution_count": null,
   "metadata": {},
   "outputs": [],
   "source": [
    "pd.DataFrame([ada.predict(ts_features[columns]), ts_features['FantPt']]).T"
   ]
  },
  {
   "cell_type": "code",
   "execution_count": null,
   "metadata": {},
   "outputs": [],
   "source": [
    "from sklearn.metrics import median_absolute_error\n",
    "median_absolute_error(ts_features['FantPt'], ada.predict(ts_features[columns]))"
   ]
  },
  {
   "cell_type": "code",
   "execution_count": null,
   "metadata": {},
   "outputs": [],
   "source": [
    "final_predictions = pd.DataFrame({'Name': ts_features_test.id, 'prediction': ada.predict(ts_features_test[columns])})\n",
    "\n"
   ]
  },
  {
   "cell_type": "code",
   "execution_count": null,
   "metadata": {},
   "outputs": [],
   "source": [
    "ts_features_test[columns]"
   ]
  },
  {
   "cell_type": "code",
   "execution_count": null,
   "metadata": {},
   "outputs": [],
   "source": [
    "final_predictions = final_predictions.merge(files[['Name', 'FantPos']].drop_duplicates(), on='Name', how='right').drop_duplicates('Name')"
   ]
  },
  {
   "cell_type": "code",
   "execution_count": null,
   "metadata": {},
   "outputs": [],
   "source": [
    "final_predictions.max()"
   ]
  },
  {
   "cell_type": "code",
   "execution_count": null,
   "metadata": {},
   "outputs": [],
   "source": [
    "idx_1 = final_predictions.groupby(['FantPos'])['prediction'].transform(max) == final_predictions['prediction']\n",
    "\n",
    "final_predictions[idx_1]"
   ]
  },
  {
   "cell_type": "code",
   "execution_count": null,
   "metadata": {},
   "outputs": [],
   "source": []
  }
 ],
 "metadata": {
  "kernelspec": {
   "display_name": "Python 3",
   "language": "python",
   "name": "python3"
  },
  "language_info": {
   "codemirror_mode": {
    "name": "ipython",
    "version": 3
   },
   "file_extension": ".py",
   "mimetype": "text/x-python",
   "name": "python",
   "nbconvert_exporter": "python",
   "pygments_lexer": "ipython3",
   "version": "3.6.8"
  }
 },
 "nbformat": 4,
 "nbformat_minor": 2
}
