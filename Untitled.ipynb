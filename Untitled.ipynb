{
 "cells": [
  {
   "cell_type": "code",
   "execution_count": 1,
   "metadata": {},
   "outputs": [],
   "source": [
    "import pandas as pd\n",
    "nfl_players = pd.read_csv('all_predictions.csv')"
   ]
  },
  {
   "cell_type": "code",
   "execution_count": 2,
   "metadata": {},
   "outputs": [
    {
     "data": {
      "text/html": [
       "<div>\n",
       "<style scoped>\n",
       "    .dataframe tbody tr th:only-of-type {\n",
       "        vertical-align: middle;\n",
       "    }\n",
       "\n",
       "    .dataframe tbody tr th {\n",
       "        vertical-align: top;\n",
       "    }\n",
       "\n",
       "    .dataframe thead th {\n",
       "        text-align: right;\n",
       "    }\n",
       "</style>\n",
       "<table border=\"1\" class=\"dataframe\">\n",
       "  <thead>\n",
       "    <tr style=\"text-align: right;\">\n",
       "      <th></th>\n",
       "      <th>Name</th>\n",
       "      <th>high</th>\n",
       "      <th>low</th>\n",
       "      <th>point</th>\n",
       "      <th>FantPos</th>\n",
       "      <th>prediction</th>\n",
       "    </tr>\n",
       "  </thead>\n",
       "  <tbody>\n",
       "    <tr>\n",
       "      <th>0</th>\n",
       "      <td>A.J. Derby</td>\n",
       "      <td>36.0</td>\n",
       "      <td>0.0</td>\n",
       "      <td>6.0</td>\n",
       "      <td>TE</td>\n",
       "      <td>66.902552</td>\n",
       "    </tr>\n",
       "    <tr>\n",
       "      <th>1</th>\n",
       "      <td>A.J. Green</td>\n",
       "      <td>160.7</td>\n",
       "      <td>12.7</td>\n",
       "      <td>96.0</td>\n",
       "      <td>WR</td>\n",
       "      <td>106.126280</td>\n",
       "    </tr>\n",
       "    <tr>\n",
       "      <th>2</th>\n",
       "      <td>A.J. McCarron</td>\n",
       "      <td>301.4</td>\n",
       "      <td>0.0</td>\n",
       "      <td>24.0</td>\n",
       "      <td>0</td>\n",
       "      <td>81.901397</td>\n",
       "    </tr>\n",
       "    <tr>\n",
       "      <th>3</th>\n",
       "      <td>Aaron Jones</td>\n",
       "      <td>168.3</td>\n",
       "      <td>10.8</td>\n",
       "      <td>84.0</td>\n",
       "      <td>RB</td>\n",
       "      <td>139.796658</td>\n",
       "    </tr>\n",
       "    <tr>\n",
       "      <th>4</th>\n",
       "      <td>Aaron Rodgers</td>\n",
       "      <td>354.1</td>\n",
       "      <td>222.9</td>\n",
       "      <td>279.0</td>\n",
       "      <td>QB</td>\n",
       "      <td>191.763935</td>\n",
       "    </tr>\n",
       "  </tbody>\n",
       "</table>\n",
       "</div>"
      ],
      "text/plain": [
       "            Name   high    low  point FantPos  prediction\n",
       "0     A.J. Derby   36.0    0.0    6.0      TE   66.902552\n",
       "1     A.J. Green  160.7   12.7   96.0      WR  106.126280\n",
       "2  A.J. McCarron  301.4    0.0   24.0       0   81.901397\n",
       "3    Aaron Jones  168.3   10.8   84.0      RB  139.796658\n",
       "4  Aaron Rodgers  354.1  222.9  279.0      QB  191.763935"
      ]
     },
     "execution_count": 2,
     "metadata": {},
     "output_type": "execute_result"
    }
   ],
   "source": [
    "nfl_players.head()"
   ]
  },
  {
   "cell_type": "code",
   "execution_count": 3,
   "metadata": {},
   "outputs": [],
   "source": [
    "import numpy as np\n",
    "nfl_players['mean_prediction'] = nfl_players.apply(lambda x: np.mean(x[['low', 'point', 'prediction']]), axis=1)"
   ]
  },
  {
   "cell_type": "code",
   "execution_count": 4,
   "metadata": {},
   "outputs": [
    {
     "data": {
      "text/html": [
       "<div>\n",
       "<style scoped>\n",
       "    .dataframe tbody tr th:only-of-type {\n",
       "        vertical-align: middle;\n",
       "    }\n",
       "\n",
       "    .dataframe tbody tr th {\n",
       "        vertical-align: top;\n",
       "    }\n",
       "\n",
       "    .dataframe thead th {\n",
       "        text-align: right;\n",
       "    }\n",
       "</style>\n",
       "<table border=\"1\" class=\"dataframe\">\n",
       "  <thead>\n",
       "    <tr style=\"text-align: right;\">\n",
       "      <th></th>\n",
       "      <th>Name</th>\n",
       "      <th>high</th>\n",
       "      <th>low</th>\n",
       "      <th>point</th>\n",
       "      <th>FantPos</th>\n",
       "      <th>prediction</th>\n",
       "      <th>mean_prediction</th>\n",
       "    </tr>\n",
       "  </thead>\n",
       "  <tbody>\n",
       "    <tr>\n",
       "      <th>522</th>\n",
       "      <td>Russell Wilson</td>\n",
       "      <td>337.9</td>\n",
       "      <td>188.9</td>\n",
       "      <td>264.5</td>\n",
       "      <td>QB</td>\n",
       "      <td>279.261277</td>\n",
       "      <td>244.220426</td>\n",
       "    </tr>\n",
       "    <tr>\n",
       "      <th>86</th>\n",
       "      <td>Cam Newton</td>\n",
       "      <td>337.9</td>\n",
       "      <td>188.9</td>\n",
       "      <td>269.0</td>\n",
       "      <td>QB</td>\n",
       "      <td>272.902270</td>\n",
       "      <td>243.600757</td>\n",
       "    </tr>\n",
       "    <tr>\n",
       "      <th>4</th>\n",
       "      <td>Aaron Rodgers</td>\n",
       "      <td>354.1</td>\n",
       "      <td>222.9</td>\n",
       "      <td>279.0</td>\n",
       "      <td>QB</td>\n",
       "      <td>191.763935</td>\n",
       "      <td>231.221312</td>\n",
       "    </tr>\n",
       "    <tr>\n",
       "      <th>211</th>\n",
       "      <td>Drew Brees</td>\n",
       "      <td>354.1</td>\n",
       "      <td>222.9</td>\n",
       "      <td>269.0</td>\n",
       "      <td>QB</td>\n",
       "      <td>201.652090</td>\n",
       "      <td>231.184030</td>\n",
       "    </tr>\n",
       "    <tr>\n",
       "      <th>577</th>\n",
       "      <td>Tom Brady</td>\n",
       "      <td>337.9</td>\n",
       "      <td>162.8</td>\n",
       "      <td>263.0</td>\n",
       "      <td>QB</td>\n",
       "      <td>227.616667</td>\n",
       "      <td>217.805556</td>\n",
       "    </tr>\n",
       "    <tr>\n",
       "      <th>481</th>\n",
       "      <td>Philip Rivers</td>\n",
       "      <td>287.9</td>\n",
       "      <td>154.1</td>\n",
       "      <td>235.0</td>\n",
       "      <td>QB</td>\n",
       "      <td>244.883295</td>\n",
       "      <td>211.327765</td>\n",
       "    </tr>\n",
       "    <tr>\n",
       "      <th>428</th>\n",
       "      <td>Matt Ryan</td>\n",
       "      <td>287.9</td>\n",
       "      <td>183.1</td>\n",
       "      <td>262.0</td>\n",
       "      <td>QB</td>\n",
       "      <td>184.935354</td>\n",
       "      <td>210.011785</td>\n",
       "    </tr>\n",
       "    <tr>\n",
       "      <th>29</th>\n",
       "      <td>Andrew Luck</td>\n",
       "      <td>286.6</td>\n",
       "      <td>155.1</td>\n",
       "      <td>254.5</td>\n",
       "      <td>QB</td>\n",
       "      <td>214.585599</td>\n",
       "      <td>208.061866</td>\n",
       "    </tr>\n",
       "    <tr>\n",
       "      <th>432</th>\n",
       "      <td>Matthew Stafford</td>\n",
       "      <td>287.9</td>\n",
       "      <td>164.8</td>\n",
       "      <td>235.0</td>\n",
       "      <td>QB</td>\n",
       "      <td>219.255131</td>\n",
       "      <td>206.351710</td>\n",
       "    </tr>\n",
       "    <tr>\n",
       "      <th>48</th>\n",
       "      <td>Ben Roethlisberger</td>\n",
       "      <td>287.9</td>\n",
       "      <td>172.3</td>\n",
       "      <td>240.0</td>\n",
       "      <td>QB</td>\n",
       "      <td>189.608308</td>\n",
       "      <td>200.636103</td>\n",
       "    </tr>\n",
       "    <tr>\n",
       "      <th>332</th>\n",
       "      <td>Josh Allen</td>\n",
       "      <td>288.9</td>\n",
       "      <td>134.3</td>\n",
       "      <td>227.0</td>\n",
       "      <td>QB</td>\n",
       "      <td>220.450560</td>\n",
       "      <td>193.916853</td>\n",
       "    </tr>\n",
       "    <tr>\n",
       "      <th>55</th>\n",
       "      <td>Blake Bortles</td>\n",
       "      <td>274.0</td>\n",
       "      <td>100.0</td>\n",
       "      <td>240.0</td>\n",
       "      <td>QB</td>\n",
       "      <td>218.757023</td>\n",
       "      <td>186.252341</td>\n",
       "    </tr>\n",
       "    <tr>\n",
       "      <th>192</th>\n",
       "      <td>Derek Carr</td>\n",
       "      <td>266.4</td>\n",
       "      <td>103.2</td>\n",
       "      <td>216.0</td>\n",
       "      <td>QB</td>\n",
       "      <td>237.074663</td>\n",
       "      <td>185.424888</td>\n",
       "    </tr>\n",
       "    <tr>\n",
       "      <th>30</th>\n",
       "      <td>Andy Dalton</td>\n",
       "      <td>273.4</td>\n",
       "      <td>79.4</td>\n",
       "      <td>217.5</td>\n",
       "      <td>QB</td>\n",
       "      <td>212.837476</td>\n",
       "      <td>169.912492</td>\n",
       "    </tr>\n",
       "    <tr>\n",
       "      <th>535</th>\n",
       "      <td>Saquon Barkley</td>\n",
       "      <td>274.1</td>\n",
       "      <td>134.3</td>\n",
       "      <td>220.0</td>\n",
       "      <td>RB</td>\n",
       "      <td>150.593257</td>\n",
       "      <td>168.297752</td>\n",
       "    </tr>\n",
       "    <tr>\n",
       "      <th>45</th>\n",
       "      <td>Baker Mayfield</td>\n",
       "      <td>274.1</td>\n",
       "      <td>134.3</td>\n",
       "      <td>211.5</td>\n",
       "      <td>QB</td>\n",
       "      <td>155.556224</td>\n",
       "      <td>167.118741</td>\n",
       "    </tr>\n",
       "    <tr>\n",
       "      <th>141</th>\n",
       "      <td>Dak Prescott</td>\n",
       "      <td>313.2</td>\n",
       "      <td>50.7</td>\n",
       "      <td>230.5</td>\n",
       "      <td>QB</td>\n",
       "      <td>201.848009</td>\n",
       "      <td>161.016003</td>\n",
       "    </tr>\n",
       "    <tr>\n",
       "      <th>483</th>\n",
       "      <td>Phillip Lindsay</td>\n",
       "      <td>284.4</td>\n",
       "      <td>85.7</td>\n",
       "      <td>156.0</td>\n",
       "      <td>RB</td>\n",
       "      <td>230.011512</td>\n",
       "      <td>157.237171</td>\n",
       "    </tr>\n",
       "    <tr>\n",
       "      <th>377</th>\n",
       "      <td>Kirk Cousins</td>\n",
       "      <td>283.0</td>\n",
       "      <td>85.4</td>\n",
       "      <td>189.5</td>\n",
       "      <td>QB</td>\n",
       "      <td>186.083656</td>\n",
       "      <td>153.661219</td>\n",
       "    </tr>\n",
       "    <tr>\n",
       "      <th>218</th>\n",
       "      <td>Eli Manning</td>\n",
       "      <td>273.4</td>\n",
       "      <td>46.4</td>\n",
       "      <td>200.0</td>\n",
       "      <td>QB</td>\n",
       "      <td>210.323223</td>\n",
       "      <td>152.241074</td>\n",
       "    </tr>\n",
       "    <tr>\n",
       "      <th>397</th>\n",
       "      <td>Logan Thomas</td>\n",
       "      <td>320.3</td>\n",
       "      <td>109.8</td>\n",
       "      <td>264.5</td>\n",
       "      <td>QB</td>\n",
       "      <td>80.446069</td>\n",
       "      <td>151.582023</td>\n",
       "    </tr>\n",
       "    <tr>\n",
       "      <th>452</th>\n",
       "      <td>Mitchell Trubisky</td>\n",
       "      <td>274.1</td>\n",
       "      <td>150.5</td>\n",
       "      <td>220.0</td>\n",
       "      <td>QB</td>\n",
       "      <td>83.092350</td>\n",
       "      <td>151.197450</td>\n",
       "    </tr>\n",
       "    <tr>\n",
       "      <th>282</th>\n",
       "      <td>Jared Goff</td>\n",
       "      <td>260.9</td>\n",
       "      <td>118.3</td>\n",
       "      <td>208.0</td>\n",
       "      <td>QB</td>\n",
       "      <td>121.229523</td>\n",
       "      <td>149.176508</td>\n",
       "    </tr>\n",
       "    <tr>\n",
       "      <th>576</th>\n",
       "      <td>Todd Gurley</td>\n",
       "      <td>279.6</td>\n",
       "      <td>109.5</td>\n",
       "      <td>226.5</td>\n",
       "      <td>RB</td>\n",
       "      <td>107.855035</td>\n",
       "      <td>147.951678</td>\n",
       "    </tr>\n",
       "    <tr>\n",
       "      <th>34</th>\n",
       "      <td>Anthony Miller</td>\n",
       "      <td>320.3</td>\n",
       "      <td>81.6</td>\n",
       "      <td>215.5</td>\n",
       "      <td>WR</td>\n",
       "      <td>137.182659</td>\n",
       "      <td>144.760886</td>\n",
       "    </tr>\n",
       "    <tr>\n",
       "      <th>169</th>\n",
       "      <td>David Moore</td>\n",
       "      <td>320.3</td>\n",
       "      <td>74.7</td>\n",
       "      <td>242.5</td>\n",
       "      <td>WR</td>\n",
       "      <td>111.876114</td>\n",
       "      <td>143.025371</td>\n",
       "    </tr>\n",
       "    <tr>\n",
       "      <th>116</th>\n",
       "      <td>Christian Kirk</td>\n",
       "      <td>320.3</td>\n",
       "      <td>81.6</td>\n",
       "      <td>242.5</td>\n",
       "      <td>WR</td>\n",
       "      <td>102.531282</td>\n",
       "      <td>142.210427</td>\n",
       "    </tr>\n",
       "    <tr>\n",
       "      <th>464</th>\n",
       "      <td>Nick Chubb</td>\n",
       "      <td>274.5</td>\n",
       "      <td>85.7</td>\n",
       "      <td>156.0</td>\n",
       "      <td>RB</td>\n",
       "      <td>184.714927</td>\n",
       "      <td>142.138309</td>\n",
       "    </tr>\n",
       "    <tr>\n",
       "      <th>153</th>\n",
       "      <td>Dante Pettis</td>\n",
       "      <td>320.3</td>\n",
       "      <td>81.6</td>\n",
       "      <td>242.5</td>\n",
       "      <td>WR</td>\n",
       "      <td>102.261675</td>\n",
       "      <td>142.120558</td>\n",
       "    </tr>\n",
       "    <tr>\n",
       "      <th>531</th>\n",
       "      <td>Sam Darnold</td>\n",
       "      <td>284.4</td>\n",
       "      <td>58.6</td>\n",
       "      <td>173.0</td>\n",
       "      <td>QB</td>\n",
       "      <td>188.372143</td>\n",
       "      <td>139.990714</td>\n",
       "    </tr>\n",
       "    <tr>\n",
       "      <th>...</th>\n",
       "      <td>...</td>\n",
       "      <td>...</td>\n",
       "      <td>...</td>\n",
       "      <td>...</td>\n",
       "      <td>...</td>\n",
       "      <td>...</td>\n",
       "      <td>...</td>\n",
       "    </tr>\n",
       "    <tr>\n",
       "      <th>399</th>\n",
       "      <td>Luke Willson</td>\n",
       "      <td>52.0</td>\n",
       "      <td>0.0</td>\n",
       "      <td>15.5</td>\n",
       "      <td>RB</td>\n",
       "      <td>76.771389</td>\n",
       "      <td>30.757130</td>\n",
       "    </tr>\n",
       "    <tr>\n",
       "      <th>496</th>\n",
       "      <td>Richard Rodgers</td>\n",
       "      <td>78.4</td>\n",
       "      <td>1.0</td>\n",
       "      <td>18.0</td>\n",
       "      <td>TE</td>\n",
       "      <td>72.052855</td>\n",
       "      <td>30.350952</td>\n",
       "    </tr>\n",
       "    <tr>\n",
       "      <th>606</th>\n",
       "      <td>Vance McDonald</td>\n",
       "      <td>134.7</td>\n",
       "      <td>2.7</td>\n",
       "      <td>17.0</td>\n",
       "      <td>TE</td>\n",
       "      <td>70.295308</td>\n",
       "      <td>29.998436</td>\n",
       "    </tr>\n",
       "    <tr>\n",
       "      <th>395</th>\n",
       "      <td>Levine Toilolo</td>\n",
       "      <td>25.2</td>\n",
       "      <td>0.0</td>\n",
       "      <td>7.5</td>\n",
       "      <td>TE</td>\n",
       "      <td>82.481786</td>\n",
       "      <td>29.993929</td>\n",
       "    </tr>\n",
       "    <tr>\n",
       "      <th>525</th>\n",
       "      <td>Ryan Griffin</td>\n",
       "      <td>37.1</td>\n",
       "      <td>0.9</td>\n",
       "      <td>16.5</td>\n",
       "      <td>TE</td>\n",
       "      <td>70.869752</td>\n",
       "      <td>29.423251</td>\n",
       "    </tr>\n",
       "    <tr>\n",
       "      <th>65</th>\n",
       "      <td>Brandon Tate</td>\n",
       "      <td>95.9</td>\n",
       "      <td>0.0</td>\n",
       "      <td>12.5</td>\n",
       "      <td>WR</td>\n",
       "      <td>75.719652</td>\n",
       "      <td>29.406551</td>\n",
       "    </tr>\n",
       "    <tr>\n",
       "      <th>89</th>\n",
       "      <td>Cameron Artis-Payne</td>\n",
       "      <td>61.4</td>\n",
       "      <td>0.0</td>\n",
       "      <td>13.0</td>\n",
       "      <td>RB</td>\n",
       "      <td>73.951743</td>\n",
       "      <td>28.983914</td>\n",
       "    </tr>\n",
       "    <tr>\n",
       "      <th>219</th>\n",
       "      <td>Eli Rogers</td>\n",
       "      <td>109.4</td>\n",
       "      <td>1.0</td>\n",
       "      <td>15.0</td>\n",
       "      <td>WR</td>\n",
       "      <td>69.990994</td>\n",
       "      <td>28.663665</td>\n",
       "    </tr>\n",
       "    <tr>\n",
       "      <th>511</th>\n",
       "      <td>Robert Turbin</td>\n",
       "      <td>50.2</td>\n",
       "      <td>1.0</td>\n",
       "      <td>18.5</td>\n",
       "      <td>RB</td>\n",
       "      <td>65.671296</td>\n",
       "      <td>28.390432</td>\n",
       "    </tr>\n",
       "    <tr>\n",
       "      <th>216</th>\n",
       "      <td>Dwayne Washington</td>\n",
       "      <td>63.6</td>\n",
       "      <td>0.9</td>\n",
       "      <td>12.5</td>\n",
       "      <td>RB</td>\n",
       "      <td>71.040313</td>\n",
       "      <td>28.146771</td>\n",
       "    </tr>\n",
       "    <tr>\n",
       "      <th>217</th>\n",
       "      <td>Ed Dickson</td>\n",
       "      <td>42.1</td>\n",
       "      <td>0.0</td>\n",
       "      <td>13.0</td>\n",
       "      <td>TE</td>\n",
       "      <td>70.636839</td>\n",
       "      <td>27.878946</td>\n",
       "    </tr>\n",
       "    <tr>\n",
       "      <th>463</th>\n",
       "      <td>Nick Boyle</td>\n",
       "      <td>86.1</td>\n",
       "      <td>0.0</td>\n",
       "      <td>15.0</td>\n",
       "      <td>TE</td>\n",
       "      <td>68.276810</td>\n",
       "      <td>27.758937</td>\n",
       "    </tr>\n",
       "    <tr>\n",
       "      <th>69</th>\n",
       "      <td>Breshad Perriman</td>\n",
       "      <td>60.5</td>\n",
       "      <td>0.0</td>\n",
       "      <td>13.0</td>\n",
       "      <td>WR</td>\n",
       "      <td>69.319913</td>\n",
       "      <td>27.439971</td>\n",
       "    </tr>\n",
       "    <tr>\n",
       "      <th>214</th>\n",
       "      <td>Dwayne Allen</td>\n",
       "      <td>74.9</td>\n",
       "      <td>1.0</td>\n",
       "      <td>20.0</td>\n",
       "      <td>TE</td>\n",
       "      <td>60.230659</td>\n",
       "      <td>27.076886</td>\n",
       "    </tr>\n",
       "    <tr>\n",
       "      <th>122</th>\n",
       "      <td>Cody Kessler</td>\n",
       "      <td>61.4</td>\n",
       "      <td>0.0</td>\n",
       "      <td>13.0</td>\n",
       "      <td>QB</td>\n",
       "      <td>67.572435</td>\n",
       "      <td>26.857478</td>\n",
       "    </tr>\n",
       "    <tr>\n",
       "      <th>73</th>\n",
       "      <td>Brian Quick</td>\n",
       "      <td>72.0</td>\n",
       "      <td>0.0</td>\n",
       "      <td>4.5</td>\n",
       "      <td>WR</td>\n",
       "      <td>76.015455</td>\n",
       "      <td>26.838485</td>\n",
       "    </tr>\n",
       "    <tr>\n",
       "      <th>215</th>\n",
       "      <td>Dwayne Harris</td>\n",
       "      <td>48.2</td>\n",
       "      <td>0.0</td>\n",
       "      <td>9.5</td>\n",
       "      <td>WR</td>\n",
       "      <td>69.544356</td>\n",
       "      <td>26.348119</td>\n",
       "    </tr>\n",
       "    <tr>\n",
       "      <th>15</th>\n",
       "      <td>Alex Erickson</td>\n",
       "      <td>94.2</td>\n",
       "      <td>0.0</td>\n",
       "      <td>12.5</td>\n",
       "      <td>WR</td>\n",
       "      <td>66.527650</td>\n",
       "      <td>26.342550</td>\n",
       "    </tr>\n",
       "    <tr>\n",
       "      <th>174</th>\n",
       "      <td>De'Anthony Thomas</td>\n",
       "      <td>63.6</td>\n",
       "      <td>0.9</td>\n",
       "      <td>11.5</td>\n",
       "      <td>WR</td>\n",
       "      <td>66.378694</td>\n",
       "      <td>26.259565</td>\n",
       "    </tr>\n",
       "    <tr>\n",
       "      <th>398</th>\n",
       "      <td>Luke Stocker</td>\n",
       "      <td>43.4</td>\n",
       "      <td>0.0</td>\n",
       "      <td>5.5</td>\n",
       "      <td>TE</td>\n",
       "      <td>71.788268</td>\n",
       "      <td>25.762756</td>\n",
       "    </tr>\n",
       "    <tr>\n",
       "      <th>337</th>\n",
       "      <td>Josh Johnson</td>\n",
       "      <td>25.2</td>\n",
       "      <td>0.9</td>\n",
       "      <td>8.5</td>\n",
       "      <td>QB</td>\n",
       "      <td>66.911213</td>\n",
       "      <td>25.437071</td>\n",
       "    </tr>\n",
       "    <tr>\n",
       "      <th>61</th>\n",
       "      <td>Brandon Bolden</td>\n",
       "      <td>25.7</td>\n",
       "      <td>0.0</td>\n",
       "      <td>12.0</td>\n",
       "      <td>RB</td>\n",
       "      <td>63.011199</td>\n",
       "      <td>25.003733</td>\n",
       "    </tr>\n",
       "    <tr>\n",
       "      <th>83</th>\n",
       "      <td>C.J. Prosise</td>\n",
       "      <td>61.4</td>\n",
       "      <td>0.0</td>\n",
       "      <td>7.0</td>\n",
       "      <td>RB</td>\n",
       "      <td>67.298042</td>\n",
       "      <td>24.766014</td>\n",
       "    </tr>\n",
       "    <tr>\n",
       "      <th>336</th>\n",
       "      <td>Josh Hill</td>\n",
       "      <td>27.6</td>\n",
       "      <td>0.0</td>\n",
       "      <td>12.0</td>\n",
       "      <td>TE</td>\n",
       "      <td>61.200108</td>\n",
       "      <td>24.400036</td>\n",
       "    </tr>\n",
       "    <tr>\n",
       "      <th>620</th>\n",
       "      <td>Zach Zenner</td>\n",
       "      <td>60.5</td>\n",
       "      <td>0.0</td>\n",
       "      <td>13.0</td>\n",
       "      <td>RB</td>\n",
       "      <td>60.154164</td>\n",
       "      <td>24.384721</td>\n",
       "    </tr>\n",
       "    <tr>\n",
       "      <th>0</th>\n",
       "      <td>A.J. Derby</td>\n",
       "      <td>36.0</td>\n",
       "      <td>0.0</td>\n",
       "      <td>6.0</td>\n",
       "      <td>TE</td>\n",
       "      <td>66.902552</td>\n",
       "      <td>24.300851</td>\n",
       "    </tr>\n",
       "    <tr>\n",
       "      <th>396</th>\n",
       "      <td>Logan Paulsen</td>\n",
       "      <td>37.8</td>\n",
       "      <td>0.0</td>\n",
       "      <td>12.0</td>\n",
       "      <td>TE</td>\n",
       "      <td>60.695857</td>\n",
       "      <td>24.231952</td>\n",
       "    </tr>\n",
       "    <tr>\n",
       "      <th>191</th>\n",
       "      <td>Derek Anderson</td>\n",
       "      <td>42.1</td>\n",
       "      <td>0.0</td>\n",
       "      <td>13.0</td>\n",
       "      <td>QB</td>\n",
       "      <td>59.568115</td>\n",
       "      <td>24.189372</td>\n",
       "    </tr>\n",
       "    <tr>\n",
       "      <th>11</th>\n",
       "      <td>Aldrick Robinson</td>\n",
       "      <td>36.0</td>\n",
       "      <td>0.0</td>\n",
       "      <td>8.5</td>\n",
       "      <td>WR</td>\n",
       "      <td>61.365772</td>\n",
       "      <td>23.288591</td>\n",
       "    </tr>\n",
       "    <tr>\n",
       "      <th>542</th>\n",
       "      <td>Shane Smith</td>\n",
       "      <td>15.2</td>\n",
       "      <td>0.0</td>\n",
       "      <td>0.0</td>\n",
       "      <td>0</td>\n",
       "      <td>15.262641</td>\n",
       "      <td>5.087547</td>\n",
       "    </tr>\n",
       "  </tbody>\n",
       "</table>\n",
       "<p>622 rows × 7 columns</p>\n",
       "</div>"
      ],
      "text/plain": [
       "                 Name   high    low  point FantPos  prediction  \\\n",
       "522    Russell Wilson  337.9  188.9  264.5      QB  279.261277   \n",
       "86         Cam Newton  337.9  188.9  269.0      QB  272.902270   \n",
       "4       Aaron Rodgers  354.1  222.9  279.0      QB  191.763935   \n",
       "211        Drew Brees  354.1  222.9  269.0      QB  201.652090   \n",
       "577         Tom Brady  337.9  162.8  263.0      QB  227.616667   \n",
       "..                ...    ...    ...    ...     ...         ...   \n",
       "0          A.J. Derby   36.0    0.0    6.0      TE   66.902552   \n",
       "396     Logan Paulsen   37.8    0.0   12.0      TE   60.695857   \n",
       "191    Derek Anderson   42.1    0.0   13.0      QB   59.568115   \n",
       "11   Aldrick Robinson   36.0    0.0    8.5      WR   61.365772   \n",
       "542       Shane Smith   15.2    0.0    0.0       0   15.262641   \n",
       "\n",
       "     mean_prediction  \n",
       "522       244.220426  \n",
       "86        243.600757  \n",
       "4         231.221312  \n",
       "211       231.184030  \n",
       "577       217.805556  \n",
       "..               ...  \n",
       "0          24.300851  \n",
       "396        24.231952  \n",
       "191        24.189372  \n",
       "11         23.288591  \n",
       "542         5.087547  \n",
       "\n",
       "[622 rows x 7 columns]"
      ]
     },
     "execution_count": 4,
     "metadata": {},
     "output_type": "execute_result"
    }
   ],
   "source": [
    "nfl_players.sort_values('mean_prediction', ascending=False)"
   ]
  },
  {
   "cell_type": "code",
   "execution_count": 5,
   "metadata": {},
   "outputs": [],
   "source": [
    "import tqdm \n",
    "class DraftState:\n",
    "    def __init__(self, rosters, turns, freeagents, playerjm=None):\n",
    "        self.rosters = rosters\n",
    "        self.turns = turns\n",
    "        self.freeagents = freeagents\n",
    "        self.playerJustMoved = playerjm\n",
    "        \n",
    "class NflPlayer:\n",
    "    def __init__(self, name, position, points):\n",
    "        self.name = name\n",
    "        self.position = position\n",
    "        self.points = points\n",
    "        \n",
    "    def __repr__(self):\n",
    "        return \"|\".join([self.name, self.position, str(self.points)])\n",
    "\n",
    "    \n",
    "import numpy as np\n",
    "\n",
    "def GetResult(self, playerjm):\n",
    "    \"\"\" Get the game result from the viewpoint of playerjm.\n",
    "    \"\"\"\n",
    "    if playerjm is None: return 0\n",
    "    \n",
    "    pos_wgts = {\n",
    "        (\"QB\"): [.75, .4],\n",
    "        (\"WR\"): [.9, .8, .4, .2],\n",
    "        (\"RB\"): [.95, .8, .4, .2],\n",
    "        (\"TE\"): [.1, .0001],\n",
    "        (\"RB\", \"WR\", \"TE\"): [.6, .4, .00001]\n",
    "    }\n",
    "\n",
    "    result = 0\n",
    "    # map the drafted players to the weights\n",
    "    for p in self.rosters[playerjm]:\n",
    "        max_wgt, _, max_pos, old_wgts = max(\n",
    "            ((wgts[0], -len(lineup_pos), lineup_pos, wgts) for lineup_pos, wgts in pos_wgts.items()\n",
    "                if p.position in lineup_pos),\n",
    "            default=(0, 0, (), []))\n",
    "        if max_wgt > 0:\n",
    "            result += max_wgt * p.points\n",
    "            old_wgts.pop(0)\n",
    "            if not old_wgts:\n",
    "                pos_wgts.pop(max_pos)\n",
    "                \n",
    "    # map the remaining weights to the top three free agents\n",
    "    for pos, wgts in pos_wgts.items():\n",
    "        result += np.mean([p.points for p in self.freeagents if p.position in pos][:3]) * sum(wgts)\n",
    "        \n",
    "    return result\n",
    "        \n",
    "DraftState.GetResult = GetResult\n",
    "\n",
    "\n",
    "def GetMoves(self):\n",
    "    \"\"\" Get all possible moves from this state.\n",
    "    \"\"\"\n",
    "    pos_max = {\"QB\": 2, \"WR\": 6, \"RB\": 6, \"TE\": 2}\n",
    "\n",
    "    if len(self.turns) == 0: return []\n",
    "\n",
    "    roster_positions = np.array([p.position for p in self.rosters[self.turns[0]]], dtype=str)\n",
    "    moves = [pos for pos, max_ in pos_max.items() if np.sum(roster_positions == pos) < max_]\n",
    "    return moves\n",
    "\n",
    "DraftState.GetMoves = GetMoves\n",
    "\n",
    "\n",
    "def DoMove(self, move):\n",
    "    \"\"\" Update a state by carrying out the given move.\n",
    "        Must update playerJustMoved.\n",
    "    \"\"\"\n",
    "    player = next(p for p in self.freeagents if p.position == move)\n",
    "    self.freeagents.remove(player)\n",
    "    rosterId = self.turns.pop(0)\n",
    "    self.rosters[rosterId].append(player)\n",
    "    self.playerJustMoved = rosterId\n",
    "    \n",
    "DraftState.DoMove = DoMove\n",
    "\n",
    "\n",
    "def Clone(self):\n",
    "    \"\"\" Create a deep clone of this game state.\n",
    "    \"\"\"\n",
    "    rosters = list(map(lambda r: r[:], self.rosters))\n",
    "    st = DraftState(rosters, self.turns[:], self.freeagents[:],\n",
    "            self.playerJustMoved)\n",
    "    return st\n",
    "\n",
    "DraftState.Clone = Clone"
   ]
  },
  {
   "cell_type": "code",
   "execution_count": 6,
   "metadata": {},
   "outputs": [],
   "source": [
    "\n",
    "# This is a very simple implementation of the UCT Monte Carlo Tree Search algorithm in Python 2.7.\n",
    "# The function UCT(rootstate, itermax, verbose = False) is towards the bottom of the code.\n",
    "# It aims to have the clearest and simplest possible code, and for the sake of clarity, the code\n",
    "# is orders of magnitude less efficient than it could be made, particularly by using a \n",
    "# state.GetRandomMove() or state.DoRandomRollout() function.\n",
    "# \n",
    "# Written by Peter Cowling, Ed Powley, Daniel Whitehouse (University of York, UK) September 2012.\n",
    "# \n",
    "# Licence is granted to freely use and distribute for any sensible/legal purpose so long as this comment\n",
    "# remains in any distributed code.\n",
    "# \n",
    "# For more information about Monte Carlo Tree Search check out our web site at www.mcts.ai\n",
    "\n",
    "from math import *\n",
    "import random\n",
    "\n",
    "class Node:\n",
    "    \"\"\" A node in the game tree. Note wins is always from the viewpoint of playerJustMoved.\n",
    "        Crashes if state not specified.\n",
    "    \"\"\"\n",
    "    def __init__(self, move = None, parent = None, state = None):\n",
    "        self.move = move # the move that got us to this node - \"None\" for the root node\n",
    "        self.parentNode = parent # \"None\" for the root node\n",
    "        self.childNodes = []\n",
    "        self.wins = 0\n",
    "        self.visits = 0\n",
    "        self.untriedMoves = state.GetMoves() # future child nodes\n",
    "        self.playerJustMoved = state.playerJustMoved # the only part of the state that the Node needs later\n",
    "        \n",
    "    def UCTSelectChild(self):\n",
    "        \"\"\" Use the UCB1 formula to select a child node. Often a constant UCTK is applied so we have\n",
    "            lambda c: c.wins/c.visits + UCTK * sqrt(2*log(self.visits)/c.visits to vary the amount of\n",
    "            exploration versus exploitation.\n",
    "        \"\"\"\n",
    "        UCTK = 200\n",
    "        s = sorted(self.childNodes, key = lambda c: c.wins/c.visits + UCTK * sqrt(2*log(self.visits)/c.visits))[-1]\n",
    "        return s\n",
    "    \n",
    "    def AddChild(self, m, s):\n",
    "        \"\"\" Remove m from untriedMoves and add a new child node for this move.\n",
    "            Return the added child node\n",
    "        \"\"\"\n",
    "        n = Node(move = m, parent = self, state = s)\n",
    "        self.untriedMoves.remove(m)\n",
    "        self.childNodes.append(n)\n",
    "        return n\n",
    "    \n",
    "    def Update(self, result):\n",
    "        \"\"\" Update this node - one additional visit and result additional wins. result must be from the viewpoint of playerJustmoved.\n",
    "        \"\"\"\n",
    "        self.visits += 1\n",
    "        self.wins += result\n",
    "\n",
    "\n",
    "def UCT(rootstate, itermax, verbose = False):\n",
    "    \"\"\" Conduct a UCT search for itermax iterations starting from rootstate.\n",
    "        Return the best move from the rootstate.\n",
    "    \"\"\"\n",
    "\n",
    "    rootnode = Node(state = rootstate)\n",
    "\n",
    "    for i in tqdm.tqdm(range(itermax)):\n",
    "        node = rootnode\n",
    "        state = rootstate.Clone()\n",
    "\n",
    "        # Select\n",
    "        while node.untriedMoves == [] and node.childNodes != []: # node is fully expanded and non-terminal\n",
    "            node = node.UCTSelectChild()\n",
    "            state.DoMove(node.move)\n",
    "\n",
    "        # Expand\n",
    "        if node.untriedMoves != []: # if we can expand (i.e. state/node is non-terminal)\n",
    "            m = random.choice(node.untriedMoves) \n",
    "            state.DoMove(m)\n",
    "            node = node.AddChild(m,state) # add child and descend tree\n",
    "\n",
    "        # Rollout - this can often be made orders of magnitude quicker using a state.GetRandomMove() function\n",
    "        while state.GetMoves() != []: # while state is non-terminal\n",
    "            state.DoMove(random.choice(state.GetMoves()))\n",
    "\n",
    "        # Backpropagate\n",
    "        while node != None: # backpropagate from the expanded node and work back to the root node\n",
    "            node.Update(state.GetResult(node.playerJustMoved)) # state is terminal. Update node with result from POV of node.playerJustMoved\n",
    "            node = node.parentNode\n",
    "\n",
    "    return sorted(rootnode.childNodes, key = lambda c: c.visits)[-1].move # return the move that was most visited"
   ]
  },
  {
   "cell_type": "code",
   "execution_count": 7,
   "metadata": {},
   "outputs": [],
   "source": [
    "nfl_players = nfl_players[['Name','FantPos', 'mean_prediction']]\n"
   ]
  },
  {
   "cell_type": "code",
   "execution_count": 8,
   "metadata": {},
   "outputs": [],
   "source": [
    "freeagents = [NflPlayer(*p) for p in nfl_players.itertuples(index=False, name=None)]\n"
   ]
  },
  {
   "cell_type": "code",
   "execution_count": 9,
   "metadata": {},
   "outputs": [
    {
     "name": "stderr",
     "output_type": "stream",
     "text": [
      "100%|██████████| 5000/5000 [02:07<00:00, 39.24it/s]\n",
      "  0%|          | 5/5000 [00:00<02:04, 39.99it/s]"
     ]
    },
    {
     "name": "stdout",
     "output_type": "stream",
     "text": [
      "QB\n"
     ]
    },
    {
     "name": "stderr",
     "output_type": "stream",
     "text": [
      "100%|██████████| 5000/5000 [02:14<00:00, 37.09it/s]\n",
      "  0%|          | 5/5000 [00:00<02:01, 40.96it/s]"
     ]
    },
    {
     "name": "stdout",
     "output_type": "stream",
     "text": [
      "QB\n"
     ]
    },
    {
     "name": "stderr",
     "output_type": "stream",
     "text": [
      "100%|██████████| 5000/5000 [02:12<00:00, 37.67it/s]\n",
      "  0%|          | 4/5000 [00:00<02:37, 31.75it/s]"
     ]
    },
    {
     "name": "stdout",
     "output_type": "stream",
     "text": [
      "QB\n"
     ]
    },
    {
     "name": "stderr",
     "output_type": "stream",
     "text": [
      "100%|██████████| 5000/5000 [02:07<00:00, 39.23it/s]\n",
      "  0%|          | 4/5000 [00:00<02:10, 38.40it/s]"
     ]
    },
    {
     "name": "stdout",
     "output_type": "stream",
     "text": [
      "QB\n"
     ]
    },
    {
     "name": "stderr",
     "output_type": "stream",
     "text": [
      "100%|██████████| 5000/5000 [02:14<00:00, 39.61it/s]\n",
      "  0%|          | 5/5000 [00:00<01:56, 42.78it/s]"
     ]
    },
    {
     "name": "stdout",
     "output_type": "stream",
     "text": [
      "QB\n"
     ]
    },
    {
     "name": "stderr",
     "output_type": "stream",
     "text": [
      "100%|██████████| 5000/5000 [02:02<00:00, 40.36it/s]\n",
      "  0%|          | 5/5000 [00:00<01:57, 42.58it/s]"
     ]
    },
    {
     "name": "stdout",
     "output_type": "stream",
     "text": [
      "RB\n"
     ]
    },
    {
     "name": "stderr",
     "output_type": "stream",
     "text": [
      "100%|██████████| 5000/5000 [02:19<00:00, 35.34it/s]\n",
      "  0%|          | 4/5000 [00:00<02:18, 36.20it/s]"
     ]
    },
    {
     "name": "stdout",
     "output_type": "stream",
     "text": [
      "WR\n"
     ]
    },
    {
     "name": "stderr",
     "output_type": "stream",
     "text": [
      "100%|██████████| 5000/5000 [02:40<00:00, 34.63it/s]\n",
      "  0%|          | 4/5000 [00:00<02:15, 36.95it/s]"
     ]
    },
    {
     "name": "stdout",
     "output_type": "stream",
     "text": [
      "WR\n"
     ]
    },
    {
     "name": "stderr",
     "output_type": "stream",
     "text": [
      "100%|██████████| 5000/5000 [02:13<00:00, 37.52it/s]\n",
      "  0%|          | 4/5000 [00:00<02:11, 38.08it/s]"
     ]
    },
    {
     "name": "stdout",
     "output_type": "stream",
     "text": [
      "WR\n"
     ]
    },
    {
     "name": "stderr",
     "output_type": "stream",
     "text": [
      "100%|██████████| 5000/5000 [02:07<00:00, 39.18it/s]\n",
      "  0%|          | 5/5000 [00:00<01:54, 43.58it/s]"
     ]
    },
    {
     "name": "stdout",
     "output_type": "stream",
     "text": [
      "RB\n"
     ]
    },
    {
     "name": "stderr",
     "output_type": "stream",
     "text": [
      "100%|██████████| 5000/5000 [02:03<00:00, 40.54it/s]\n",
      "  0%|          | 5/5000 [00:00<01:57, 42.34it/s]"
     ]
    },
    {
     "name": "stdout",
     "output_type": "stream",
     "text": [
      "RB\n"
     ]
    },
    {
     "name": "stderr",
     "output_type": "stream",
     "text": [
      "100%|██████████| 5000/5000 [02:06<00:00, 39.49it/s]\n",
      "  0%|          | 5/5000 [00:00<02:02, 40.63it/s]"
     ]
    },
    {
     "name": "stdout",
     "output_type": "stream",
     "text": [
      "QB\n"
     ]
    },
    {
     "name": "stderr",
     "output_type": "stream",
     "text": [
      "100%|██████████| 5000/5000 [02:04<00:00, 40.09it/s]\n",
      "  0%|          | 5/5000 [00:00<01:56, 42.75it/s]"
     ]
    },
    {
     "name": "stdout",
     "output_type": "stream",
     "text": [
      "QB\n"
     ]
    },
    {
     "name": "stderr",
     "output_type": "stream",
     "text": [
      "100%|██████████| 5000/5000 [01:56<00:00, 43.06it/s]\n",
      "  0%|          | 5/5000 [00:00<01:57, 42.42it/s]"
     ]
    },
    {
     "name": "stdout",
     "output_type": "stream",
     "text": [
      "WR\n"
     ]
    },
    {
     "name": "stderr",
     "output_type": "stream",
     "text": [
      "100%|██████████| 5000/5000 [01:55<00:00, 43.02it/s]\n",
      "  0%|          | 5/5000 [00:00<01:53, 44.05it/s]"
     ]
    },
    {
     "name": "stdout",
     "output_type": "stream",
     "text": [
      "RB\n"
     ]
    },
    {
     "name": "stderr",
     "output_type": "stream",
     "text": [
      "100%|██████████| 5000/5000 [01:54<00:00, 43.77it/s]\n",
      "  0%|          | 5/5000 [00:00<01:53, 44.07it/s]"
     ]
    },
    {
     "name": "stdout",
     "output_type": "stream",
     "text": [
      "RB\n"
     ]
    },
    {
     "name": "stderr",
     "output_type": "stream",
     "text": [
      "100%|██████████| 5000/5000 [01:51<00:00, 44.42it/s]\n",
      "  0%|          | 5/5000 [00:00<01:56, 42.97it/s]"
     ]
    },
    {
     "name": "stdout",
     "output_type": "stream",
     "text": [
      "RB\n"
     ]
    },
    {
     "name": "stderr",
     "output_type": "stream",
     "text": [
      "100%|██████████| 5000/5000 [01:50<00:00, 45.16it/s]\n",
      "  0%|          | 5/5000 [00:00<01:48, 46.03it/s]"
     ]
    },
    {
     "name": "stdout",
     "output_type": "stream",
     "text": [
      "TE\n"
     ]
    },
    {
     "name": "stderr",
     "output_type": "stream",
     "text": [
      "100%|██████████| 5000/5000 [01:50<00:00, 44.79it/s]\n",
      "  0%|          | 5/5000 [00:00<01:47, 46.29it/s]"
     ]
    },
    {
     "name": "stdout",
     "output_type": "stream",
     "text": [
      "TE\n"
     ]
    },
    {
     "name": "stderr",
     "output_type": "stream",
     "text": [
      "100%|██████████| 5000/5000 [01:49<00:00, 45.10it/s]\n",
      "  0%|          | 5/5000 [00:00<01:51, 44.72it/s]"
     ]
    },
    {
     "name": "stdout",
     "output_type": "stream",
     "text": [
      "TE\n"
     ]
    },
    {
     "name": "stderr",
     "output_type": "stream",
     "text": [
      "100%|██████████| 5000/5000 [01:48<00:00, 46.09it/s]\n",
      "  0%|          | 5/5000 [00:00<01:48, 45.85it/s]"
     ]
    },
    {
     "name": "stdout",
     "output_type": "stream",
     "text": [
      "TE\n"
     ]
    },
    {
     "name": "stderr",
     "output_type": "stream",
     "text": [
      "100%|██████████| 5000/5000 [01:48<00:00, 45.90it/s]\n",
      "  0%|          | 5/5000 [00:00<01:46, 46.90it/s]"
     ]
    },
    {
     "name": "stdout",
     "output_type": "stream",
     "text": [
      "TE\n"
     ]
    },
    {
     "name": "stderr",
     "output_type": "stream",
     "text": [
      "100%|██████████| 5000/5000 [01:47<00:00, 45.16it/s]\n",
      "  0%|          | 5/5000 [00:00<01:43, 48.30it/s]"
     ]
    },
    {
     "name": "stdout",
     "output_type": "stream",
     "text": [
      "TE\n"
     ]
    },
    {
     "name": "stderr",
     "output_type": "stream",
     "text": [
      "100%|██████████| 5000/5000 [01:47<00:00, 45.65it/s]\n",
      "  0%|          | 5/5000 [00:00<01:49, 45.75it/s]"
     ]
    },
    {
     "name": "stdout",
     "output_type": "stream",
     "text": [
      "TE\n"
     ]
    },
    {
     "name": "stderr",
     "output_type": "stream",
     "text": [
      "100%|██████████| 5000/5000 [01:46<00:00, 46.21it/s]\n",
      "  0%|          | 5/5000 [00:00<01:45, 47.16it/s]"
     ]
    },
    {
     "name": "stdout",
     "output_type": "stream",
     "text": [
      "TE\n"
     ]
    },
    {
     "name": "stderr",
     "output_type": "stream",
     "text": [
      "100%|██████████| 5000/5000 [01:45<00:00, 47.29it/s]\n",
      "  0%|          | 5/5000 [00:00<01:48, 46.20it/s]"
     ]
    },
    {
     "name": "stdout",
     "output_type": "stream",
     "text": [
      "TE\n"
     ]
    },
    {
     "name": "stderr",
     "output_type": "stream",
     "text": [
      "100%|██████████| 5000/5000 [01:44<00:00, 47.28it/s]\n",
      "  0%|          | 5/5000 [00:00<01:44, 47.98it/s]"
     ]
    },
    {
     "name": "stdout",
     "output_type": "stream",
     "text": [
      "TE\n"
     ]
    },
    {
     "name": "stderr",
     "output_type": "stream",
     "text": [
      "100%|██████████| 5000/5000 [01:44<00:00, 47.98it/s]\n",
      "  0%|          | 5/5000 [00:00<01:44, 47.98it/s]"
     ]
    },
    {
     "name": "stdout",
     "output_type": "stream",
     "text": [
      "TE\n"
     ]
    },
    {
     "name": "stderr",
     "output_type": "stream",
     "text": [
      "100%|██████████| 5000/5000 [01:43<00:00, 48.15it/s]\n",
      "  0%|          | 5/5000 [00:00<01:40, 49.65it/s]"
     ]
    },
    {
     "name": "stdout",
     "output_type": "stream",
     "text": [
      "TE\n"
     ]
    },
    {
     "name": "stderr",
     "output_type": "stream",
     "text": [
      "100%|██████████| 5000/5000 [01:42<00:00, 48.56it/s]\n",
      "  0%|          | 5/5000 [00:00<01:41, 49.04it/s]"
     ]
    },
    {
     "name": "stdout",
     "output_type": "stream",
     "text": [
      "TE\n"
     ]
    },
    {
     "name": "stderr",
     "output_type": "stream",
     "text": [
      "100%|██████████| 5000/5000 [01:41<00:00, 49.03it/s]\n",
      "  0%|          | 5/5000 [00:00<01:40, 49.79it/s]"
     ]
    },
    {
     "name": "stdout",
     "output_type": "stream",
     "text": [
      "TE\n"
     ]
    },
    {
     "name": "stderr",
     "output_type": "stream",
     "text": [
      "100%|██████████| 5000/5000 [01:41<00:00, 49.86it/s]\n",
      "  0%|          | 5/5000 [00:00<01:47, 46.38it/s]"
     ]
    },
    {
     "name": "stdout",
     "output_type": "stream",
     "text": [
      "TE\n"
     ]
    },
    {
     "name": "stderr",
     "output_type": "stream",
     "text": [
      "100%|██████████| 5000/5000 [01:40<00:00, 49.71it/s]\n",
      "  0%|          | 5/5000 [00:00<01:44, 47.79it/s]"
     ]
    },
    {
     "name": "stdout",
     "output_type": "stream",
     "text": [
      "TE\n"
     ]
    },
    {
     "name": "stderr",
     "output_type": "stream",
     "text": [
      "100%|██████████| 5000/5000 [01:39<00:00, 50.16it/s]\n",
      "  0%|          | 6/5000 [00:00<01:34, 52.62it/s]"
     ]
    },
    {
     "name": "stdout",
     "output_type": "stream",
     "text": [
      "TE\n"
     ]
    },
    {
     "name": "stderr",
     "output_type": "stream",
     "text": [
      "100%|██████████| 5000/5000 [01:38<00:00, 50.57it/s]\n",
      "  0%|          | 6/5000 [00:00<01:36, 51.86it/s]"
     ]
    },
    {
     "name": "stdout",
     "output_type": "stream",
     "text": [
      "TE\n"
     ]
    },
    {
     "name": "stderr",
     "output_type": "stream",
     "text": [
      "100%|██████████| 5000/5000 [01:38<00:00, 50.92it/s]\n",
      "  0%|          | 6/5000 [00:00<01:37, 51.07it/s]"
     ]
    },
    {
     "name": "stdout",
     "output_type": "stream",
     "text": [
      "TE\n"
     ]
    },
    {
     "name": "stderr",
     "output_type": "stream",
     "text": [
      "100%|██████████| 5000/5000 [01:37<00:00, 51.21it/s]\n",
      "  0%|          | 6/5000 [00:00<01:35, 52.50it/s]"
     ]
    },
    {
     "name": "stdout",
     "output_type": "stream",
     "text": [
      "TE\n"
     ]
    },
    {
     "name": "stderr",
     "output_type": "stream",
     "text": [
      "100%|██████████| 5000/5000 [01:38<00:00, 50.63it/s]\n",
      "  0%|          | 6/5000 [00:00<01:35, 52.39it/s]"
     ]
    },
    {
     "name": "stdout",
     "output_type": "stream",
     "text": [
      "TE\n"
     ]
    },
    {
     "name": "stderr",
     "output_type": "stream",
     "text": [
      "100%|██████████| 5000/5000 [01:36<00:00, 51.75it/s]\n",
      "  0%|          | 6/5000 [00:00<01:35, 52.52it/s]"
     ]
    },
    {
     "name": "stdout",
     "output_type": "stream",
     "text": [
      "TE\n"
     ]
    },
    {
     "name": "stderr",
     "output_type": "stream",
     "text": [
      "100%|██████████| 5000/5000 [01:35<00:00, 52.30it/s]\n",
      "  0%|          | 6/5000 [00:00<01:37, 51.46it/s]"
     ]
    },
    {
     "name": "stdout",
     "output_type": "stream",
     "text": [
      "TE\n"
     ]
    },
    {
     "name": "stderr",
     "output_type": "stream",
     "text": [
      "100%|██████████| 5000/5000 [01:34<00:00, 52.72it/s]\n",
      "  0%|          | 6/5000 [00:00<01:36, 52.00it/s]"
     ]
    },
    {
     "name": "stdout",
     "output_type": "stream",
     "text": [
      "TE\n"
     ]
    },
    {
     "name": "stderr",
     "output_type": "stream",
     "text": [
      "100%|██████████| 5000/5000 [01:34<00:00, 53.18it/s]\n",
      "  0%|          | 6/5000 [00:00<01:36, 51.80it/s]"
     ]
    },
    {
     "name": "stdout",
     "output_type": "stream",
     "text": [
      "RB\n"
     ]
    },
    {
     "name": "stderr",
     "output_type": "stream",
     "text": [
      "100%|██████████| 5000/5000 [01:33<00:00, 53.32it/s]\n",
      "  0%|          | 5/5000 [00:00<01:40, 49.74it/s]"
     ]
    },
    {
     "name": "stdout",
     "output_type": "stream",
     "text": [
      "RB\n"
     ]
    },
    {
     "name": "stderr",
     "output_type": "stream",
     "text": [
      "100%|██████████| 5000/5000 [01:33<00:00, 53.76it/s]\n",
      "  0%|          | 6/5000 [00:00<01:29, 55.59it/s]"
     ]
    },
    {
     "name": "stdout",
     "output_type": "stream",
     "text": [
      "RB\n"
     ]
    },
    {
     "name": "stderr",
     "output_type": "stream",
     "text": [
      "100%|██████████| 5000/5000 [01:32<00:00, 54.29it/s]\n",
      "  0%|          | 6/5000 [00:00<01:30, 55.27it/s]"
     ]
    },
    {
     "name": "stdout",
     "output_type": "stream",
     "text": [
      "RB\n"
     ]
    },
    {
     "name": "stderr",
     "output_type": "stream",
     "text": [
      "100%|██████████| 5000/5000 [01:30<00:00, 55.00it/s]\n",
      "  0%|          | 6/5000 [00:00<01:31, 54.34it/s]"
     ]
    },
    {
     "name": "stdout",
     "output_type": "stream",
     "text": [
      "QB\n"
     ]
    },
    {
     "name": "stderr",
     "output_type": "stream",
     "text": [
      "100%|██████████| 5000/5000 [01:30<00:00, 55.22it/s]\n",
      "  0%|          | 6/5000 [00:00<01:28, 56.60it/s]"
     ]
    },
    {
     "name": "stdout",
     "output_type": "stream",
     "text": [
      "QB\n"
     ]
    },
    {
     "name": "stderr",
     "output_type": "stream",
     "text": [
      "100%|██████████| 5000/5000 [01:29<00:00, 55.81it/s]\n",
      "  0%|          | 6/5000 [00:00<01:28, 56.25it/s]"
     ]
    },
    {
     "name": "stdout",
     "output_type": "stream",
     "text": [
      "QB\n"
     ]
    },
    {
     "name": "stderr",
     "output_type": "stream",
     "text": [
      "100%|██████████| 5000/5000 [01:29<00:00, 56.14it/s]\n",
      "  0%|          | 6/5000 [00:00<01:29, 55.67it/s]"
     ]
    },
    {
     "name": "stdout",
     "output_type": "stream",
     "text": [
      "WR\n"
     ]
    },
    {
     "name": "stderr",
     "output_type": "stream",
     "text": [
      "100%|██████████| 5000/5000 [01:28<00:00, 56.62it/s]\n",
      "  0%|          | 6/5000 [00:00<01:29, 55.95it/s]"
     ]
    },
    {
     "name": "stdout",
     "output_type": "stream",
     "text": [
      "WR\n"
     ]
    },
    {
     "name": "stderr",
     "output_type": "stream",
     "text": [
      "100%|██████████| 5000/5000 [01:27<00:00, 57.06it/s]\n",
      "  0%|          | 6/5000 [00:00<01:27, 56.96it/s]"
     ]
    },
    {
     "name": "stdout",
     "output_type": "stream",
     "text": [
      "WR\n"
     ]
    },
    {
     "name": "stderr",
     "output_type": "stream",
     "text": [
      "100%|██████████| 5000/5000 [01:27<00:00, 57.46it/s]\n",
      "  0%|          | 6/5000 [00:00<01:26, 57.62it/s]"
     ]
    },
    {
     "name": "stdout",
     "output_type": "stream",
     "text": [
      "WR\n"
     ]
    },
    {
     "name": "stderr",
     "output_type": "stream",
     "text": [
      "100%|██████████| 5000/5000 [01:26<00:00, 58.02it/s]\n",
      "  0%|          | 6/5000 [00:00<01:28, 56.17it/s]"
     ]
    },
    {
     "name": "stdout",
     "output_type": "stream",
     "text": [
      "QB\n"
     ]
    },
    {
     "name": "stderr",
     "output_type": "stream",
     "text": [
      "100%|██████████| 5000/5000 [01:25<00:00, 58.42it/s]\n",
      "  0%|          | 6/5000 [00:00<01:23, 59.94it/s]"
     ]
    },
    {
     "name": "stdout",
     "output_type": "stream",
     "text": [
      "QB\n"
     ]
    },
    {
     "name": "stderr",
     "output_type": "stream",
     "text": [
      "100%|██████████| 5000/5000 [01:24<00:00, 59.16it/s]\n",
      "  0%|          | 6/5000 [00:00<01:23, 59.65it/s]"
     ]
    },
    {
     "name": "stdout",
     "output_type": "stream",
     "text": [
      "QB\n"
     ]
    },
    {
     "name": "stderr",
     "output_type": "stream",
     "text": [
      "100%|██████████| 5000/5000 [01:23<00:00, 59.08it/s]\n",
      "  0%|          | 6/5000 [00:00<01:29, 55.90it/s]"
     ]
    },
    {
     "name": "stdout",
     "output_type": "stream",
     "text": [
      "RB\n"
     ]
    },
    {
     "name": "stderr",
     "output_type": "stream",
     "text": [
      "100%|██████████| 5000/5000 [01:23<00:00, 59.97it/s]\n",
      "  0%|          | 6/5000 [00:00<01:28, 56.64it/s]"
     ]
    },
    {
     "name": "stdout",
     "output_type": "stream",
     "text": [
      "RB\n"
     ]
    },
    {
     "name": "stderr",
     "output_type": "stream",
     "text": [
      "100%|██████████| 5000/5000 [01:23<00:00, 60.14it/s]\n",
      "  0%|          | 6/5000 [00:00<01:29, 56.09it/s]"
     ]
    },
    {
     "name": "stdout",
     "output_type": "stream",
     "text": [
      "RB\n"
     ]
    },
    {
     "name": "stderr",
     "output_type": "stream",
     "text": [
      "100%|██████████| 5000/5000 [01:22<00:00, 60.78it/s]\n",
      "  0%|          | 6/5000 [00:00<01:27, 57.15it/s]"
     ]
    },
    {
     "name": "stdout",
     "output_type": "stream",
     "text": [
      "QB\n"
     ]
    },
    {
     "name": "stderr",
     "output_type": "stream",
     "text": [
      "100%|██████████| 5000/5000 [01:21<00:00, 61.55it/s]\n",
      "  0%|          | 7/5000 [00:00<01:21, 61.21it/s]"
     ]
    },
    {
     "name": "stdout",
     "output_type": "stream",
     "text": [
      "RB\n"
     ]
    },
    {
     "name": "stderr",
     "output_type": "stream",
     "text": [
      "100%|██████████| 5000/5000 [01:20<00:00, 62.05it/s]\n",
      "  0%|          | 6/5000 [00:00<01:23, 59.51it/s]"
     ]
    },
    {
     "name": "stdout",
     "output_type": "stream",
     "text": [
      "RB\n"
     ]
    },
    {
     "name": "stderr",
     "output_type": "stream",
     "text": [
      "100%|██████████| 5000/5000 [01:20<00:00, 61.36it/s]\n",
      "  0%|          | 7/5000 [00:00<01:21, 61.25it/s]"
     ]
    },
    {
     "name": "stdout",
     "output_type": "stream",
     "text": [
      "RB\n"
     ]
    },
    {
     "name": "stderr",
     "output_type": "stream",
     "text": [
      "100%|██████████| 5000/5000 [01:19<00:00, 62.91it/s]\n",
      "  0%|          | 7/5000 [00:00<01:20, 62.28it/s]"
     ]
    },
    {
     "name": "stdout",
     "output_type": "stream",
     "text": [
      "RB\n"
     ]
    },
    {
     "name": "stderr",
     "output_type": "stream",
     "text": [
      "100%|██████████| 5000/5000 [01:18<00:00, 63.55it/s]\n",
      "  0%|          | 7/5000 [00:00<01:16, 64.93it/s]"
     ]
    },
    {
     "name": "stdout",
     "output_type": "stream",
     "text": [
      "QB\n"
     ]
    },
    {
     "name": "stderr",
     "output_type": "stream",
     "text": [
      "100%|██████████| 5000/5000 [01:17<00:00, 64.19it/s]\n",
      "  0%|          | 7/5000 [00:00<01:15, 66.05it/s]"
     ]
    },
    {
     "name": "stdout",
     "output_type": "stream",
     "text": [
      "RB\n"
     ]
    },
    {
     "name": "stderr",
     "output_type": "stream",
     "text": [
      "100%|██████████| 5000/5000 [01:17<00:00, 64.80it/s]\n",
      "  0%|          | 7/5000 [00:00<01:17, 64.80it/s]"
     ]
    },
    {
     "name": "stdout",
     "output_type": "stream",
     "text": [
      "RB\n"
     ]
    },
    {
     "name": "stderr",
     "output_type": "stream",
     "text": [
      "100%|██████████| 5000/5000 [01:16<00:00, 65.54it/s]\n",
      "  0%|          | 7/5000 [00:00<01:15, 65.89it/s]"
     ]
    },
    {
     "name": "stdout",
     "output_type": "stream",
     "text": [
      "QB\n"
     ]
    },
    {
     "name": "stderr",
     "output_type": "stream",
     "text": [
      "100%|██████████| 5000/5000 [01:15<00:00, 66.22it/s]\n",
      "  0%|          | 7/5000 [00:00<01:12, 69.21it/s]"
     ]
    },
    {
     "name": "stdout",
     "output_type": "stream",
     "text": [
      "WR\n"
     ]
    },
    {
     "name": "stderr",
     "output_type": "stream",
     "text": [
      "100%|██████████| 5000/5000 [01:15<00:00, 66.61it/s]\n",
      "  0%|          | 7/5000 [00:00<01:15, 65.90it/s]"
     ]
    },
    {
     "name": "stdout",
     "output_type": "stream",
     "text": [
      "QB\n"
     ]
    },
    {
     "name": "stderr",
     "output_type": "stream",
     "text": [
      "100%|██████████| 5000/5000 [01:14<00:00, 67.00it/s]\n",
      "  0%|          | 7/5000 [00:00<01:17, 64.68it/s]"
     ]
    },
    {
     "name": "stdout",
     "output_type": "stream",
     "text": [
      "WR\n"
     ]
    },
    {
     "name": "stderr",
     "output_type": "stream",
     "text": [
      "100%|██████████| 5000/5000 [01:13<00:00, 67.96it/s]\n",
      "  0%|          | 8/5000 [00:00<01:09, 71.49it/s]"
     ]
    },
    {
     "name": "stdout",
     "output_type": "stream",
     "text": [
      "WR\n"
     ]
    },
    {
     "name": "stderr",
     "output_type": "stream",
     "text": [
      "100%|██████████| 5000/5000 [01:13<00:00, 68.40it/s]\n",
      "  0%|          | 8/5000 [00:00<01:09, 72.22it/s]"
     ]
    },
    {
     "name": "stdout",
     "output_type": "stream",
     "text": [
      "WR\n"
     ]
    },
    {
     "name": "stderr",
     "output_type": "stream",
     "text": [
      "100%|██████████| 5000/5000 [01:12<00:00, 69.28it/s]\n",
      "  0%|          | 7/5000 [00:00<01:11, 69.92it/s]"
     ]
    },
    {
     "name": "stdout",
     "output_type": "stream",
     "text": [
      "WR\n"
     ]
    },
    {
     "name": "stderr",
     "output_type": "stream",
     "text": [
      "100%|██████████| 5000/5000 [01:11<00:00, 70.03it/s]\n",
      "  0%|          | 7/5000 [00:00<01:11, 69.47it/s]"
     ]
    },
    {
     "name": "stdout",
     "output_type": "stream",
     "text": [
      "WR\n"
     ]
    },
    {
     "name": "stderr",
     "output_type": "stream",
     "text": [
      "100%|██████████| 5000/5000 [01:10<00:00, 70.89it/s]\n",
      "  0%|          | 7/5000 [00:00<01:11, 69.88it/s]"
     ]
    },
    {
     "name": "stdout",
     "output_type": "stream",
     "text": [
      "WR\n"
     ]
    },
    {
     "name": "stderr",
     "output_type": "stream",
     "text": [
      "100%|██████████| 5000/5000 [01:09<00:00, 71.52it/s]\n",
      "  0%|          | 7/5000 [00:00<01:12, 69.24it/s]"
     ]
    },
    {
     "name": "stdout",
     "output_type": "stream",
     "text": [
      "WR\n"
     ]
    },
    {
     "name": "stderr",
     "output_type": "stream",
     "text": [
      "100%|██████████| 5000/5000 [01:09<00:00, 71.94it/s]\n",
      "  0%|          | 8/5000 [00:00<01:08, 73.20it/s]"
     ]
    },
    {
     "name": "stdout",
     "output_type": "stream",
     "text": [
      "WR\n"
     ]
    },
    {
     "name": "stderr",
     "output_type": "stream",
     "text": [
      "100%|██████████| 5000/5000 [01:08<00:00, 72.97it/s]\n",
      "  0%|          | 8/5000 [00:00<01:08, 73.41it/s]"
     ]
    },
    {
     "name": "stdout",
     "output_type": "stream",
     "text": [
      "WR\n"
     ]
    },
    {
     "name": "stderr",
     "output_type": "stream",
     "text": [
      "100%|██████████| 5000/5000 [01:08<00:00, 73.45it/s]\n",
      "  0%|          | 8/5000 [00:00<01:06, 74.59it/s]"
     ]
    },
    {
     "name": "stdout",
     "output_type": "stream",
     "text": [
      "WR\n"
     ]
    },
    {
     "name": "stderr",
     "output_type": "stream",
     "text": [
      "100%|██████████| 5000/5000 [01:07<00:00, 73.31it/s]\n",
      "  0%|          | 8/5000 [00:00<01:07, 74.24it/s]"
     ]
    },
    {
     "name": "stdout",
     "output_type": "stream",
     "text": [
      "WR\n"
     ]
    },
    {
     "name": "stderr",
     "output_type": "stream",
     "text": [
      "100%|██████████| 5000/5000 [01:06<00:00, 74.25it/s]\n",
      "  0%|          | 8/5000 [00:00<01:02, 79.34it/s]"
     ]
    },
    {
     "name": "stdout",
     "output_type": "stream",
     "text": [
      "WR\n"
     ]
    },
    {
     "name": "stderr",
     "output_type": "stream",
     "text": [
      "100%|██████████| 5000/5000 [01:05<00:00, 75.99it/s]\n",
      "  0%|          | 8/5000 [00:00<01:03, 78.96it/s]"
     ]
    },
    {
     "name": "stdout",
     "output_type": "stream",
     "text": [
      "RB\n"
     ]
    },
    {
     "name": "stderr",
     "output_type": "stream",
     "text": [
      "100%|██████████| 5000/5000 [01:04<00:00, 77.07it/s]\n",
      "  0%|          | 9/5000 [00:00<01:01, 81.01it/s]"
     ]
    },
    {
     "name": "stdout",
     "output_type": "stream",
     "text": [
      "RB\n"
     ]
    },
    {
     "name": "stderr",
     "output_type": "stream",
     "text": [
      "100%|██████████| 5000/5000 [01:04<00:00, 77.92it/s]\n",
      "  0%|          | 8/5000 [00:00<01:02, 79.93it/s]"
     ]
    },
    {
     "name": "stdout",
     "output_type": "stream",
     "text": [
      "RB\n"
     ]
    },
    {
     "name": "stderr",
     "output_type": "stream",
     "text": [
      "100%|██████████| 5000/5000 [01:03<00:00, 78.92it/s]\n",
      "  0%|          | 8/5000 [00:00<01:04, 77.69it/s]"
     ]
    },
    {
     "name": "stdout",
     "output_type": "stream",
     "text": [
      "RB\n"
     ]
    },
    {
     "name": "stderr",
     "output_type": "stream",
     "text": [
      "100%|██████████| 5000/5000 [01:02<00:00, 80.73it/s]\n",
      "  0%|          | 8/5000 [00:00<01:04, 77.35it/s]"
     ]
    },
    {
     "name": "stdout",
     "output_type": "stream",
     "text": [
      "RB\n"
     ]
    },
    {
     "name": "stderr",
     "output_type": "stream",
     "text": [
      "100%|██████████| 5000/5000 [01:02<00:00, 80.64it/s]\n",
      "  0%|          | 9/5000 [00:00<01:02, 79.33it/s]"
     ]
    },
    {
     "name": "stdout",
     "output_type": "stream",
     "text": [
      "RB\n"
     ]
    },
    {
     "name": "stderr",
     "output_type": "stream",
     "text": [
      "100%|██████████| 5000/5000 [01:01<00:00, 81.59it/s]\n",
      "  0%|          | 9/5000 [00:00<01:01, 80.91it/s]"
     ]
    },
    {
     "name": "stdout",
     "output_type": "stream",
     "text": [
      "RB\n"
     ]
    },
    {
     "name": "stderr",
     "output_type": "stream",
     "text": [
      "100%|██████████| 5000/5000 [01:00<00:00, 82.53it/s]\n",
      "  0%|          | 9/5000 [00:00<00:56, 87.75it/s]"
     ]
    },
    {
     "name": "stdout",
     "output_type": "stream",
     "text": [
      "RB\n"
     ]
    },
    {
     "name": "stderr",
     "output_type": "stream",
     "text": [
      "100%|██████████| 5000/5000 [00:59<00:00, 83.41it/s]\n",
      "  0%|          | 8/5000 [00:00<01:02, 79.76it/s]"
     ]
    },
    {
     "name": "stdout",
     "output_type": "stream",
     "text": [
      "RB\n"
     ]
    },
    {
     "name": "stderr",
     "output_type": "stream",
     "text": [
      "100%|██████████| 5000/5000 [00:59<00:00, 84.26it/s]\n",
      "  0%|          | 9/5000 [00:00<00:57, 86.20it/s]"
     ]
    },
    {
     "name": "stdout",
     "output_type": "stream",
     "text": [
      "WR\n"
     ]
    },
    {
     "name": "stderr",
     "output_type": "stream",
     "text": [
      "100%|██████████| 5000/5000 [00:58<00:00, 85.43it/s]\n",
      "  0%|          | 9/5000 [00:00<00:56, 88.51it/s]"
     ]
    },
    {
     "name": "stdout",
     "output_type": "stream",
     "text": [
      "WR\n"
     ]
    },
    {
     "name": "stderr",
     "output_type": "stream",
     "text": [
      "100%|██████████| 5000/5000 [00:57<00:00, 86.82it/s]\n",
      "  0%|          | 9/5000 [00:00<00:56, 88.84it/s]"
     ]
    },
    {
     "name": "stdout",
     "output_type": "stream",
     "text": [
      "WR\n"
     ]
    },
    {
     "name": "stderr",
     "output_type": "stream",
     "text": [
      "100%|██████████| 5000/5000 [00:56<00:00, 87.72it/s]\n",
      "  0%|          | 9/5000 [00:00<00:58, 85.88it/s]"
     ]
    },
    {
     "name": "stdout",
     "output_type": "stream",
     "text": [
      "WR\n"
     ]
    },
    {
     "name": "stderr",
     "output_type": "stream",
     "text": [
      "100%|██████████| 5000/5000 [00:56<00:00, 88.90it/s]\n",
      "  0%|          | 9/5000 [00:00<00:55, 89.56it/s]"
     ]
    },
    {
     "name": "stdout",
     "output_type": "stream",
     "text": [
      "WR\n"
     ]
    },
    {
     "name": "stderr",
     "output_type": "stream",
     "text": [
      "100%|██████████| 5000/5000 [00:55<00:00, 90.39it/s]\n",
      "  0%|          | 9/5000 [00:00<00:56, 88.64it/s]"
     ]
    },
    {
     "name": "stdout",
     "output_type": "stream",
     "text": [
      "WR\n"
     ]
    },
    {
     "name": "stderr",
     "output_type": "stream",
     "text": [
      "100%|██████████| 5000/5000 [00:54<00:00, 91.05it/s]\n",
      "  0%|          | 10/5000 [00:00<00:54, 92.04it/s]"
     ]
    },
    {
     "name": "stdout",
     "output_type": "stream",
     "text": [
      "WR\n"
     ]
    },
    {
     "name": "stderr",
     "output_type": "stream",
     "text": [
      "100%|██████████| 5000/5000 [00:53<00:00, 92.70it/s]\n",
      "  0%|          | 9/5000 [00:00<00:56, 88.83it/s]"
     ]
    },
    {
     "name": "stdout",
     "output_type": "stream",
     "text": [
      "WR\n"
     ]
    },
    {
     "name": "stderr",
     "output_type": "stream",
     "text": [
      "100%|██████████| 5000/5000 [00:53<00:00, 93.49it/s]\n",
      "  0%|          | 9/5000 [00:00<00:56, 87.78it/s]"
     ]
    },
    {
     "name": "stdout",
     "output_type": "stream",
     "text": [
      "WR\n"
     ]
    },
    {
     "name": "stderr",
     "output_type": "stream",
     "text": [
      "100%|██████████| 5000/5000 [00:52<00:00, 94.51it/s]\n",
      "  0%|          | 10/5000 [00:00<00:51, 97.23it/s]"
     ]
    },
    {
     "name": "stdout",
     "output_type": "stream",
     "text": [
      "WR\n"
     ]
    },
    {
     "name": "stderr",
     "output_type": "stream",
     "text": [
      "100%|██████████| 5000/5000 [00:52<00:00, 95.06it/s]\n",
      "  0%|          | 10/5000 [00:00<00:50, 97.91it/s]"
     ]
    },
    {
     "name": "stdout",
     "output_type": "stream",
     "text": [
      "WR\n"
     ]
    },
    {
     "name": "stderr",
     "output_type": "stream",
     "text": [
      "100%|██████████| 5000/5000 [00:51<00:00, 97.49it/s]\n",
      "  0%|          | 10/5000 [00:00<00:51, 96.62it/s]"
     ]
    },
    {
     "name": "stdout",
     "output_type": "stream",
     "text": [
      "WR\n"
     ]
    },
    {
     "name": "stderr",
     "output_type": "stream",
     "text": [
      "100%|██████████| 5000/5000 [00:50<00:00, 98.66it/s]\n",
      "  0%|          | 10/5000 [00:00<00:50, 97.91it/s]"
     ]
    },
    {
     "name": "stdout",
     "output_type": "stream",
     "text": [
      "RB\n"
     ]
    },
    {
     "name": "stderr",
     "output_type": "stream",
     "text": [
      "100%|██████████| 5000/5000 [00:49<00:00, 100.48it/s]\n",
      "  0%|          | 11/5000 [00:00<00:47, 104.59it/s]"
     ]
    },
    {
     "name": "stdout",
     "output_type": "stream",
     "text": [
      "RB\n"
     ]
    },
    {
     "name": "stderr",
     "output_type": "stream",
     "text": [
      "100%|██████████| 5000/5000 [00:49<00:00, 101.77it/s]\n",
      "  0%|          | 11/5000 [00:00<00:46, 107.94it/s]"
     ]
    },
    {
     "name": "stdout",
     "output_type": "stream",
     "text": [
      "RB\n"
     ]
    },
    {
     "name": "stderr",
     "output_type": "stream",
     "text": [
      "100%|██████████| 5000/5000 [00:48<00:00, 103.83it/s]\n",
      "  0%|          | 11/5000 [00:00<00:47, 106.12it/s]"
     ]
    },
    {
     "name": "stdout",
     "output_type": "stream",
     "text": [
      "QB\n"
     ]
    },
    {
     "name": "stderr",
     "output_type": "stream",
     "text": [
      "100%|██████████| 5000/5000 [00:47<00:00, 104.89it/s]\n",
      "  0%|          | 12/5000 [00:00<00:44, 111.82it/s]"
     ]
    },
    {
     "name": "stdout",
     "output_type": "stream",
     "text": [
      "RB\n"
     ]
    },
    {
     "name": "stderr",
     "output_type": "stream",
     "text": [
      "100%|██████████| 5000/5000 [00:47<00:00, 106.38it/s]\n",
      "  0%|          | 11/5000 [00:00<00:49, 101.35it/s]"
     ]
    },
    {
     "name": "stdout",
     "output_type": "stream",
     "text": [
      "RB\n"
     ]
    },
    {
     "name": "stderr",
     "output_type": "stream",
     "text": [
      "100%|██████████| 5000/5000 [00:46<00:00, 108.68it/s]\n",
      "  0%|          | 11/5000 [00:00<00:45, 109.99it/s]"
     ]
    },
    {
     "name": "stdout",
     "output_type": "stream",
     "text": [
      "RB\n"
     ]
    },
    {
     "name": "stderr",
     "output_type": "stream",
     "text": [
      "100%|██████████| 5000/5000 [00:45<00:00, 110.16it/s]\n",
      "  0%|          | 12/5000 [00:00<00:44, 113.08it/s]"
     ]
    },
    {
     "name": "stdout",
     "output_type": "stream",
     "text": [
      "QB\n"
     ]
    },
    {
     "name": "stderr",
     "output_type": "stream",
     "text": [
      "100%|██████████| 5000/5000 [00:44<00:00, 111.66it/s]\n",
      "  0%|          | 12/5000 [00:00<00:43, 113.63it/s]"
     ]
    },
    {
     "name": "stdout",
     "output_type": "stream",
     "text": [
      "QB\n"
     ]
    },
    {
     "name": "stderr",
     "output_type": "stream",
     "text": [
      "100%|██████████| 5000/5000 [00:43<00:00, 114.31it/s]\n",
      "  0%|          | 12/5000 [00:00<00:44, 112.28it/s]"
     ]
    },
    {
     "name": "stdout",
     "output_type": "stream",
     "text": [
      "RB\n"
     ]
    },
    {
     "name": "stderr",
     "output_type": "stream",
     "text": [
      "100%|██████████| 5000/5000 [00:43<00:00, 116.71it/s]\n",
      "  0%|          | 12/5000 [00:00<00:43, 115.38it/s]"
     ]
    },
    {
     "name": "stdout",
     "output_type": "stream",
     "text": [
      "RB\n"
     ]
    },
    {
     "name": "stderr",
     "output_type": "stream",
     "text": [
      "100%|██████████| 5000/5000 [00:42<00:00, 117.46it/s]\n",
      "  0%|          | 12/5000 [00:00<00:41, 119.34it/s]"
     ]
    },
    {
     "name": "stdout",
     "output_type": "stream",
     "text": [
      "RB\n"
     ]
    },
    {
     "name": "stderr",
     "output_type": "stream",
     "text": [
      "100%|██████████| 5000/5000 [00:41<00:00, 119.79it/s]\n",
      "  0%|          | 12/5000 [00:00<00:41, 119.23it/s]"
     ]
    },
    {
     "name": "stdout",
     "output_type": "stream",
     "text": [
      "WR\n"
     ]
    },
    {
     "name": "stderr",
     "output_type": "stream",
     "text": [
      "100%|██████████| 5000/5000 [00:41<00:00, 121.57it/s]\n",
      "  0%|          | 13/5000 [00:00<00:38, 129.59it/s]"
     ]
    },
    {
     "name": "stdout",
     "output_type": "stream",
     "text": [
      "WR\n"
     ]
    },
    {
     "name": "stderr",
     "output_type": "stream",
     "text": [
      "100%|██████████| 5000/5000 [00:40<00:00, 124.30it/s]\n",
      "  0%|          | 13/5000 [00:00<00:38, 129.62it/s]"
     ]
    },
    {
     "name": "stdout",
     "output_type": "stream",
     "text": [
      "WR\n"
     ]
    },
    {
     "name": "stderr",
     "output_type": "stream",
     "text": [
      "100%|██████████| 5000/5000 [00:39<00:00, 126.45it/s]\n",
      "  0%|          | 13/5000 [00:00<00:38, 129.26it/s]"
     ]
    },
    {
     "name": "stdout",
     "output_type": "stream",
     "text": [
      "WR\n"
     ]
    },
    {
     "name": "stderr",
     "output_type": "stream",
     "text": [
      "100%|██████████| 5000/5000 [00:38<00:00, 128.54it/s]\n",
      "  0%|          | 14/5000 [00:00<00:37, 132.19it/s]"
     ]
    },
    {
     "name": "stdout",
     "output_type": "stream",
     "text": [
      "WR\n"
     ]
    },
    {
     "name": "stderr",
     "output_type": "stream",
     "text": [
      "100%|██████████| 5000/5000 [00:38<00:00, 130.99it/s]\n",
      "  0%|          | 14/5000 [00:00<00:35, 139.58it/s]"
     ]
    },
    {
     "name": "stdout",
     "output_type": "stream",
     "text": [
      "RB\n"
     ]
    },
    {
     "name": "stderr",
     "output_type": "stream",
     "text": [
      "100%|██████████| 5000/5000 [00:37<00:00, 132.81it/s]\n",
      "  0%|          | 13/5000 [00:00<00:38, 129.80it/s]"
     ]
    },
    {
     "name": "stdout",
     "output_type": "stream",
     "text": [
      "RB\n"
     ]
    },
    {
     "name": "stderr",
     "output_type": "stream",
     "text": [
      "100%|██████████| 5000/5000 [00:36<00:00, 136.04it/s]\n",
      "  0%|          | 15/5000 [00:00<00:34, 146.52it/s]"
     ]
    },
    {
     "name": "stdout",
     "output_type": "stream",
     "text": [
      "RB\n"
     ]
    },
    {
     "name": "stderr",
     "output_type": "stream",
     "text": [
      "100%|██████████| 5000/5000 [00:35<00:00, 139.02it/s]\n",
      "  0%|          | 15/5000 [00:00<00:33, 148.65it/s]"
     ]
    },
    {
     "name": "stdout",
     "output_type": "stream",
     "text": [
      "RB\n"
     ]
    },
    {
     "name": "stderr",
     "output_type": "stream",
     "text": [
      "100%|██████████| 5000/5000 [00:35<00:00, 142.18it/s]\n",
      "  0%|          | 16/5000 [00:00<00:32, 153.32it/s]"
     ]
    },
    {
     "name": "stdout",
     "output_type": "stream",
     "text": [
      "WR\n"
     ]
    },
    {
     "name": "stderr",
     "output_type": "stream",
     "text": [
      "100%|██████████| 5000/5000 [00:34<00:00, 144.38it/s]\n",
      "  0%|          | 15/5000 [00:00<00:33, 149.86it/s]"
     ]
    },
    {
     "name": "stdout",
     "output_type": "stream",
     "text": [
      "WR\n"
     ]
    },
    {
     "name": "stderr",
     "output_type": "stream",
     "text": [
      "100%|██████████| 5000/5000 [00:34<00:00, 146.87it/s]\n",
      "  0%|          | 16/5000 [00:00<00:31, 157.43it/s]"
     ]
    },
    {
     "name": "stdout",
     "output_type": "stream",
     "text": [
      "RB\n"
     ]
    },
    {
     "name": "stderr",
     "output_type": "stream",
     "text": [
      "100%|██████████| 5000/5000 [00:33<00:00, 149.94it/s]\n",
      "  0%|          | 15/5000 [00:00<00:33, 147.78it/s]"
     ]
    },
    {
     "name": "stdout",
     "output_type": "stream",
     "text": [
      "QB\n"
     ]
    },
    {
     "name": "stderr",
     "output_type": "stream",
     "text": [
      "100%|██████████| 5000/5000 [00:33<00:00, 150.71it/s]\n",
      "  0%|          | 16/5000 [00:00<00:31, 158.96it/s]"
     ]
    },
    {
     "name": "stdout",
     "output_type": "stream",
     "text": [
      "WR\n"
     ]
    },
    {
     "name": "stderr",
     "output_type": "stream",
     "text": [
      "100%|██████████| 5000/5000 [00:32<00:00, 153.52it/s]\n",
      "  0%|          | 16/5000 [00:00<00:32, 154.47it/s]"
     ]
    },
    {
     "name": "stdout",
     "output_type": "stream",
     "text": [
      "RB\n"
     ]
    },
    {
     "name": "stderr",
     "output_type": "stream",
     "text": [
      "100%|██████████| 5000/5000 [00:31<00:00, 158.68it/s]\n",
      "  0%|          | 16/5000 [00:00<00:31, 159.33it/s]"
     ]
    },
    {
     "name": "stdout",
     "output_type": "stream",
     "text": [
      "WR\n"
     ]
    },
    {
     "name": "stderr",
     "output_type": "stream",
     "text": [
      "100%|██████████| 5000/5000 [00:30<00:00, 161.93it/s]\n",
      "  0%|          | 18/5000 [00:00<00:28, 176.59it/s]"
     ]
    },
    {
     "name": "stdout",
     "output_type": "stream",
     "text": [
      "WR\n"
     ]
    },
    {
     "name": "stderr",
     "output_type": "stream",
     "text": [
      "100%|██████████| 5000/5000 [00:30<00:00, 166.37it/s]\n",
      "  0%|          | 17/5000 [00:00<00:29, 169.69it/s]"
     ]
    },
    {
     "name": "stdout",
     "output_type": "stream",
     "text": [
      "WR\n"
     ]
    },
    {
     "name": "stderr",
     "output_type": "stream",
     "text": [
      "100%|██████████| 5000/5000 [00:29<00:00, 170.16it/s]\n",
      "  0%|          | 18/5000 [00:00<00:27, 177.94it/s]"
     ]
    },
    {
     "name": "stdout",
     "output_type": "stream",
     "text": [
      "WR\n"
     ]
    },
    {
     "name": "stderr",
     "output_type": "stream",
     "text": [
      "100%|██████████| 5000/5000 [00:28<00:00, 175.76it/s]\n",
      "  0%|          | 19/5000 [00:00<00:27, 182.86it/s]"
     ]
    },
    {
     "name": "stdout",
     "output_type": "stream",
     "text": [
      "RB\n"
     ]
    },
    {
     "name": "stderr",
     "output_type": "stream",
     "text": [
      "100%|██████████| 5000/5000 [00:28<00:00, 177.43it/s]\n",
      "  0%|          | 19/5000 [00:00<00:27, 181.26it/s]"
     ]
    },
    {
     "name": "stdout",
     "output_type": "stream",
     "text": [
      "WR\n"
     ]
    },
    {
     "name": "stderr",
     "output_type": "stream",
     "text": [
      "100%|██████████| 5000/5000 [00:27<00:00, 183.14it/s]\n",
      "  0%|          | 20/5000 [00:00<00:26, 190.99it/s]"
     ]
    },
    {
     "name": "stdout",
     "output_type": "stream",
     "text": [
      "WR\n"
     ]
    },
    {
     "name": "stderr",
     "output_type": "stream",
     "text": [
      "100%|██████████| 5000/5000 [00:26<00:00, 188.38it/s]\n",
      "  0%|          | 19/5000 [00:00<00:26, 189.38it/s]"
     ]
    },
    {
     "name": "stdout",
     "output_type": "stream",
     "text": [
      "WR\n"
     ]
    },
    {
     "name": "stderr",
     "output_type": "stream",
     "text": [
      "100%|██████████| 5000/5000 [00:25<00:00, 194.48it/s]\n",
      "  0%|          | 22/5000 [00:00<00:23, 210.81it/s]"
     ]
    },
    {
     "name": "stdout",
     "output_type": "stream",
     "text": [
      "RB\n"
     ]
    },
    {
     "name": "stderr",
     "output_type": "stream",
     "text": [
      "100%|██████████| 5000/5000 [00:24<00:00, 203.40it/s]\n",
      "  0%|          | 22/5000 [00:00<00:23, 213.03it/s]"
     ]
    },
    {
     "name": "stdout",
     "output_type": "stream",
     "text": [
      "RB\n"
     ]
    },
    {
     "name": "stderr",
     "output_type": "stream",
     "text": [
      "100%|██████████| 5000/5000 [00:23<00:00, 209.08it/s]\n",
      "  0%|          | 23/5000 [00:00<00:21, 227.85it/s]"
     ]
    },
    {
     "name": "stdout",
     "output_type": "stream",
     "text": [
      "RB\n"
     ]
    },
    {
     "name": "stderr",
     "output_type": "stream",
     "text": [
      "100%|██████████| 5000/5000 [00:23<00:00, 215.09it/s]\n",
      "  0%|          | 23/5000 [00:00<00:22, 222.00it/s]"
     ]
    },
    {
     "name": "stdout",
     "output_type": "stream",
     "text": [
      "RB\n"
     ]
    },
    {
     "name": "stderr",
     "output_type": "stream",
     "text": [
      "100%|██████████| 5000/5000 [00:22<00:00, 223.47it/s]\n",
      "  0%|          | 24/5000 [00:00<00:21, 233.72it/s]"
     ]
    },
    {
     "name": "stdout",
     "output_type": "stream",
     "text": [
      "RB\n"
     ]
    },
    {
     "name": "stderr",
     "output_type": "stream",
     "text": [
      "100%|██████████| 5000/5000 [00:21<00:00, 230.60it/s]\n",
      "  1%|          | 26/5000 [00:00<00:19, 258.61it/s]"
     ]
    },
    {
     "name": "stdout",
     "output_type": "stream",
     "text": [
      "RB\n"
     ]
    },
    {
     "name": "stderr",
     "output_type": "stream",
     "text": [
      "100%|██████████| 5000/5000 [00:20<00:00, 240.32it/s]\n",
      "  0%|          | 25/5000 [00:00<00:20, 245.30it/s]"
     ]
    },
    {
     "name": "stdout",
     "output_type": "stream",
     "text": [
      "WR\n"
     ]
    },
    {
     "name": "stderr",
     "output_type": "stream",
     "text": [
      "100%|██████████| 5000/5000 [00:20<00:00, 247.10it/s]\n",
      "  1%|          | 28/5000 [00:00<00:18, 276.07it/s]"
     ]
    },
    {
     "name": "stdout",
     "output_type": "stream",
     "text": [
      "RB\n"
     ]
    },
    {
     "name": "stderr",
     "output_type": "stream",
     "text": [
      "100%|██████████| 5000/5000 [00:19<00:00, 258.58it/s]\n",
      "  1%|          | 28/5000 [00:00<00:18, 272.65it/s]"
     ]
    },
    {
     "name": "stdout",
     "output_type": "stream",
     "text": [
      "RB\n"
     ]
    },
    {
     "name": "stderr",
     "output_type": "stream",
     "text": [
      "100%|██████████| 5000/5000 [00:18<00:00, 268.46it/s]\n",
      "  1%|          | 29/5000 [00:00<00:17, 283.47it/s]"
     ]
    },
    {
     "name": "stdout",
     "output_type": "stream",
     "text": [
      "RB\n"
     ]
    },
    {
     "name": "stderr",
     "output_type": "stream",
     "text": [
      "100%|██████████| 5000/5000 [00:17<00:00, 278.88it/s]\n",
      "  1%|          | 32/5000 [00:00<00:15, 312.71it/s]"
     ]
    },
    {
     "name": "stdout",
     "output_type": "stream",
     "text": [
      "RB\n"
     ]
    },
    {
     "name": "stderr",
     "output_type": "stream",
     "text": [
      "100%|██████████| 5000/5000 [00:17<00:00, 287.86it/s]\n",
      "  1%|          | 33/5000 [00:00<00:15, 329.87it/s]"
     ]
    },
    {
     "name": "stdout",
     "output_type": "stream",
     "text": [
      "RB\n"
     ]
    },
    {
     "name": "stderr",
     "output_type": "stream",
     "text": [
      "100%|██████████| 5000/5000 [00:16<00:00, 306.11it/s]\n",
      "  1%|          | 32/5000 [00:00<00:15, 314.42it/s]"
     ]
    },
    {
     "name": "stdout",
     "output_type": "stream",
     "text": [
      "WR\n"
     ]
    },
    {
     "name": "stderr",
     "output_type": "stream",
     "text": [
      "100%|██████████| 5000/5000 [00:15<00:00, 317.40it/s]\n",
      "  1%|          | 35/5000 [00:00<00:14, 340.40it/s]"
     ]
    },
    {
     "name": "stdout",
     "output_type": "stream",
     "text": [
      "WR\n"
     ]
    },
    {
     "name": "stderr",
     "output_type": "stream",
     "text": [
      "100%|██████████| 5000/5000 [00:15<00:00, 333.24it/s]\n",
      "  1%|          | 37/5000 [00:00<00:13, 368.09it/s]"
     ]
    },
    {
     "name": "stdout",
     "output_type": "stream",
     "text": [
      "WR\n"
     ]
    },
    {
     "name": "stderr",
     "output_type": "stream",
     "text": [
      "100%|██████████| 5000/5000 [00:14<00:00, 353.27it/s]\n",
      "  1%|          | 38/5000 [00:00<00:13, 379.90it/s]"
     ]
    },
    {
     "name": "stdout",
     "output_type": "stream",
     "text": [
      "WR\n"
     ]
    },
    {
     "name": "stderr",
     "output_type": "stream",
     "text": [
      "100%|██████████| 5000/5000 [00:12<00:00, 384.89it/s]\n",
      "  1%|          | 40/5000 [00:00<00:12, 398.64it/s]"
     ]
    },
    {
     "name": "stdout",
     "output_type": "stream",
     "text": [
      "WR\n"
     ]
    },
    {
     "name": "stderr",
     "output_type": "stream",
     "text": [
      "100%|██████████| 5000/5000 [00:12<00:00, 414.49it/s]\n",
      "  1%|          | 44/5000 [00:00<00:11, 433.63it/s]"
     ]
    },
    {
     "name": "stdout",
     "output_type": "stream",
     "text": [
      "WR\n"
     ]
    },
    {
     "name": "stderr",
     "output_type": "stream",
     "text": [
      "100%|██████████| 5000/5000 [00:11<00:00, 446.36it/s]\n",
      "  1%|          | 49/5000 [00:00<00:10, 484.24it/s]"
     ]
    },
    {
     "name": "stdout",
     "output_type": "stream",
     "text": [
      "WR\n"
     ]
    },
    {
     "name": "stderr",
     "output_type": "stream",
     "text": [
      "100%|██████████| 5000/5000 [00:10<00:00, 477.67it/s]\n",
      "  1%|          | 48/5000 [00:00<00:10, 472.36it/s]"
     ]
    },
    {
     "name": "stdout",
     "output_type": "stream",
     "text": [
      "WR\n"
     ]
    },
    {
     "name": "stderr",
     "output_type": "stream",
     "text": [
      "100%|██████████| 5000/5000 [00:09<00:00, 505.61it/s]\n",
      "  1%|          | 54/5000 [00:00<00:09, 533.67it/s]"
     ]
    },
    {
     "name": "stdout",
     "output_type": "stream",
     "text": [
      "WR\n"
     ]
    },
    {
     "name": "stderr",
     "output_type": "stream",
     "text": [
      "100%|██████████| 5000/5000 [00:09<00:00, 552.98it/s]\n",
      "  1%|          | 56/5000 [00:00<00:08, 554.91it/s]"
     ]
    },
    {
     "name": "stdout",
     "output_type": "stream",
     "text": [
      "WR\n"
     ]
    },
    {
     "name": "stderr",
     "output_type": "stream",
     "text": [
      "100%|██████████| 5000/5000 [00:08<00:00, 602.28it/s]\n",
      "  1%|▏         | 65/5000 [00:00<00:07, 647.29it/s]"
     ]
    },
    {
     "name": "stdout",
     "output_type": "stream",
     "text": [
      "WR\n"
     ]
    },
    {
     "name": "stderr",
     "output_type": "stream",
     "text": [
      "100%|██████████| 5000/5000 [00:07<00:00, 657.80it/s]\n",
      "  1%|▏         | 74/5000 [00:00<00:06, 732.15it/s]"
     ]
    },
    {
     "name": "stdout",
     "output_type": "stream",
     "text": [
      "WR\n"
     ]
    },
    {
     "name": "stderr",
     "output_type": "stream",
     "text": [
      "100%|██████████| 5000/5000 [00:06<00:00, 770.13it/s]\n",
      "  2%|▏         | 91/5000 [00:00<00:05, 908.19it/s]"
     ]
    },
    {
     "name": "stdout",
     "output_type": "stream",
     "text": [
      "WR\n"
     ]
    },
    {
     "name": "stderr",
     "output_type": "stream",
     "text": [
      "100%|██████████| 5000/5000 [00:05<00:00, 925.81it/s]\n",
      "  2%|▏         | 106/5000 [00:00<00:04, 1059.08it/s]"
     ]
    },
    {
     "name": "stdout",
     "output_type": "stream",
     "text": [
      "RB\n"
     ]
    },
    {
     "name": "stderr",
     "output_type": "stream",
     "text": [
      "100%|██████████| 5000/5000 [00:04<00:00, 1069.50it/s]\n",
      "  2%|▏         | 122/5000 [00:00<00:04, 1215.89it/s]"
     ]
    },
    {
     "name": "stdout",
     "output_type": "stream",
     "text": [
      "RB\n"
     ]
    },
    {
     "name": "stderr",
     "output_type": "stream",
     "text": [
      "100%|██████████| 5000/5000 [00:03<00:00, 1300.48it/s]\n",
      "  3%|▎         | 161/5000 [00:00<00:03, 1607.85it/s]"
     ]
    },
    {
     "name": "stdout",
     "output_type": "stream",
     "text": [
      "RB\n"
     ]
    },
    {
     "name": "stderr",
     "output_type": "stream",
     "text": [
      "100%|██████████| 5000/5000 [00:03<00:00, 1603.59it/s]\n",
      "  4%|▍         | 213/5000 [00:00<00:02, 2120.08it/s]"
     ]
    },
    {
     "name": "stdout",
     "output_type": "stream",
     "text": [
      "RB\n"
     ]
    },
    {
     "name": "stderr",
     "output_type": "stream",
     "text": [
      "100%|██████████| 5000/5000 [00:02<00:00, 2135.23it/s]\n",
      "  6%|▌         | 311/5000 [00:00<00:01, 3109.01it/s]"
     ]
    },
    {
     "name": "stdout",
     "output_type": "stream",
     "text": [
      "RB\n"
     ]
    },
    {
     "name": "stderr",
     "output_type": "stream",
     "text": [
      "100%|██████████| 5000/5000 [00:01<00:00, 3149.90it/s]"
     ]
    },
    {
     "name": "stdout",
     "output_type": "stream",
     "text": [
      "RB\n"
     ]
    },
    {
     "name": "stderr",
     "output_type": "stream",
     "text": [
      "\n"
     ]
    }
   ],
   "source": [
    "import pandas as pd\n",
    "\n",
    "num_competitors = 12\n",
    "rosters = [[] for _ in range(num_competitors)] # empty rosters to start with\n",
    "\n",
    "num_rounds = 14\n",
    "turns = []\n",
    "# generate turns by snake order\n",
    "for i in range(num_rounds):\n",
    "    turns += reversed(range(num_competitors)) if i % 2 else range(num_competitors)\n",
    "    \n",
    "state = DraftState(rosters, turns, freeagents)\n",
    "iterations = 5000\n",
    "while state.GetMoves() != []:\n",
    "    move = UCT(state, iterations)\n",
    "    print(move)\n",
    "    state.DoMove(move)"
   ]
  },
  {
   "cell_type": "code",
   "execution_count": 10,
   "metadata": {},
   "outputs": [
    {
     "data": {
      "text/html": [
       "<div>\n",
       "<style scoped>\n",
       "    .dataframe tbody tr th:only-of-type {\n",
       "        vertical-align: middle;\n",
       "    }\n",
       "\n",
       "    .dataframe tbody tr th {\n",
       "        vertical-align: top;\n",
       "    }\n",
       "\n",
       "    .dataframe thead th {\n",
       "        text-align: right;\n",
       "    }\n",
       "</style>\n",
       "<table border=\"1\" class=\"dataframe\">\n",
       "  <thead>\n",
       "    <tr style=\"text-align: right;\">\n",
       "      <th></th>\n",
       "      <th>Team 1</th>\n",
       "      <th>Team 2</th>\n",
       "      <th>Team 3</th>\n",
       "      <th>Team 4</th>\n",
       "      <th>Team 5</th>\n",
       "      <th>Team 6</th>\n",
       "      <th>Team 7</th>\n",
       "      <th>Team 8</th>\n",
       "      <th>Team 9</th>\n",
       "      <th>Team 10</th>\n",
       "      <th>Team 11</th>\n",
       "      <th>Team 12</th>\n",
       "    </tr>\n",
       "  </thead>\n",
       "  <tbody>\n",
       "    <tr>\n",
       "      <th>0</th>\n",
       "      <td>Aaron Rodgers|QB|231.22131152594648</td>\n",
       "      <td>Andrew Luck|QB|208.06186627699375</td>\n",
       "      <td>Andy Dalton|QB|169.9124920183157</td>\n",
       "      <td>Baker Mayfield|QB|167.11874131061765</td>\n",
       "      <td>Ben Roethlisberger|QB|200.6361027059204</td>\n",
       "      <td>Aaron Jones|RB|78.19888609633476</td>\n",
       "      <td>A.J. Green|WR|71.60875989881944</td>\n",
       "      <td>Adam Humphries|WR|85.12504396723365</td>\n",
       "      <td>Adam Thielen|WR|97.79336738802571</td>\n",
       "      <td>Adrian Peterson|RB|67.21862349759215</td>\n",
       "      <td>Alex Collins|RB|73.34595121255948</td>\n",
       "      <td>Blaine Gabbert|QB|37.96882755886905</td>\n",
       "    </tr>\n",
       "    <tr>\n",
       "      <th>1</th>\n",
       "      <td>Antonio Gates|TE|67.21283743567487</td>\n",
       "      <td>Anthony Firkser|TE|66.80078022211082</td>\n",
       "      <td>Alex Smith|TE|89.82613518755993</td>\n",
       "      <td>Alex Ellis|TE|106.91971293244912</td>\n",
       "      <td>Alan Cross|TE|132.6177690377138</td>\n",
       "      <td>Adam Shaheen|TE|102.69672567312769</td>\n",
       "      <td>A.J. Derby|TE|24.300850543898463</td>\n",
       "      <td>Alvin Kamara|RB|134.08732309035074</td>\n",
       "      <td>Alfred Morris|RB|44.2328080874919</td>\n",
       "      <td>Alfred Blue|RB|41.10076242810238</td>\n",
       "      <td>Albert Wilson|WR|57.790509292941636</td>\n",
       "      <td>Blake Bortles|QB|186.252341134978</td>\n",
       "    </tr>\n",
       "    <tr>\n",
       "      <th>2</th>\n",
       "      <td>Austin Hooper|TE|67.09035278436768</td>\n",
       "      <td>Austin Seferian-Jenkins|TE|39.60590056697714</td>\n",
       "      <td>Ben Braunecker|TE|99.54738065479428</td>\n",
       "      <td>Ben Koyack|TE|132.26041871366556</td>\n",
       "      <td>Ben Watson|TE|42.40390635082412</td>\n",
       "      <td>Blake Bell|TE|106.45666065095067</td>\n",
       "      <td>Blake Jarwin|TE|52.3927636333433</td>\n",
       "      <td>Brian Parker|TE|104.23357704112045</td>\n",
       "      <td>C.J. Uzomah|TE|42.66441621810433</td>\n",
       "      <td>Cameron Brate|TE|47.54512227455725</td>\n",
       "      <td>Chris Herndon|TE|59.59824143792894</td>\n",
       "      <td>Chris Manhertz|TE|101.46238617385109</td>\n",
       "    </tr>\n",
       "    <tr>\n",
       "      <th>3</th>\n",
       "      <td>Brock Osweiler|QB|54.98483254267569</td>\n",
       "      <td>Brian Hoyer|QB|50.31070157619593</td>\n",
       "      <td>Brandon Weeden|QB|34.481911931654416</td>\n",
       "      <td>Austin Ekeler|RB|74.83663735368732</td>\n",
       "      <td>Anthony Sherman|RB|136.3074639125381</td>\n",
       "      <td>Andy Janovich|RB|66.32880573454668</td>\n",
       "      <td>Ameer Abdullah|RB|36.50461100277449</td>\n",
       "      <td>Dan Arnold|TE|108.14839313219176</td>\n",
       "      <td>Dalton Schultz|TE|91.30439928634827</td>\n",
       "      <td>Dallas Goedert|TE|67.65877926098307</td>\n",
       "      <td>Cole Wick|TE|103.48926998368593</td>\n",
       "      <td>Clive Walford|TE|31.53820246781596</td>\n",
       "    </tr>\n",
       "    <tr>\n",
       "      <th>4</th>\n",
       "      <td>Aldrick Robinson|WR|23.28859062739473</td>\n",
       "      <td>Alex Erickson|WR|26.342550059449067</td>\n",
       "      <td>Allen Hurns|WR|50.66288023850325</td>\n",
       "      <td>Allen Lazard|WR|89.79042485934612</td>\n",
       "      <td>C.J. Beathard|QB|100.29581352673313</td>\n",
       "      <td>Cam Newton|QB|243.60075674558297</td>\n",
       "      <td>Carson Wentz|QB|109.00981057487553</td>\n",
       "      <td>Benny Cunningham|RB|42.551208580780774</td>\n",
       "      <td>Bilal Powell|RB|62.678161943268755</td>\n",
       "      <td>Bradley Sowell|RB|103.43139750715284</td>\n",
       "      <td>Chad Henne|QB|43.819032629577016</td>\n",
       "      <td>Brandon Bolden|RB|25.003733149475732</td>\n",
       "    </tr>\n",
       "    <tr>\n",
       "      <th>5</th>\n",
       "      <td>Andre Holmes|WR|31.933399576297273</td>\n",
       "      <td>Amari Cooper|WR|75.45619322920673</td>\n",
       "      <td>Alshon Jeffery|WR|70.21314406653354</td>\n",
       "      <td>Cody Kessler|QB|26.857478301450325</td>\n",
       "      <td>Allen Robinson|WR|45.851881066120576</td>\n",
       "      <td>Chase Daniel|QB|47.14088117857091</td>\n",
       "      <td>C.J. Ham|RB|102.18879958095306</td>\n",
       "      <td>C.J. Anderson|RB|60.57543680742187</td>\n",
       "      <td>Chad Kelly|QB|97.72123323742039</td>\n",
       "      <td>Byron Marshall|RB|129.2211892744808</td>\n",
       "      <td>Brian Hill|RB|103.99172903268847</td>\n",
       "      <td>Brandon Wilds|RB|105.19752870082299</td>\n",
       "    </tr>\n",
       "    <tr>\n",
       "      <th>6</th>\n",
       "      <td>Andre Roberts|WR|36.81888092323161</td>\n",
       "      <td>Anthony Miller|WR|144.76088648230237</td>\n",
       "      <td>Antonio Brown|WR|112.22505398274235</td>\n",
       "      <td>Antonio Callaway|WR|138.78059385102827</td>\n",
       "      <td>Antony Auclair|WR|104.23357704112045</td>\n",
       "      <td>Auden Tate|WR|94.16727351784827</td>\n",
       "      <td>Austin Carr|WR|117.34934032674823</td>\n",
       "      <td>Bradley Marquez|WR|93.6504438876405</td>\n",
       "      <td>Brandin Cooks|WR|93.10962117742822</td>\n",
       "      <td>C.J. Prosise|RB|24.766013849098098</td>\n",
       "      <td>Cameron Artis-Payne|RB|28.983914332919515</td>\n",
       "      <td>Carlos Hyde|RB|70.3869572937952</td>\n",
       "    </tr>\n",
       "    <tr>\n",
       "      <th>7</th>\n",
       "      <td>Breshad Perriman|WR|27.439970919175394</td>\n",
       "      <td>Brandon Zylstra|WR|106.0495096023112</td>\n",
       "      <td>Brandon Tate|WR|29.40655066750354</td>\n",
       "      <td>Brandon Powell|WR|91.0282512559284</td>\n",
       "      <td>Brandon Marshall|WR|69.44052297434615</td>\n",
       "      <td>Brandon LaFell|WR|59.54654442703869</td>\n",
       "      <td>Christian McCaffrey|RB|75.78832140752961</td>\n",
       "      <td>Chris Ivory|RB|68.03024340874619</td>\n",
       "      <td>Chris Carson|RB|93.67922026231504</td>\n",
       "      <td>Chase Edmonds|RB|115.66333144417884</td>\n",
       "      <td>Charles Clay|RB|36.22708413605252</td>\n",
       "      <td>Charcandrick West|RB|39.584954472473335</td>\n",
       "    </tr>\n",
       "    <tr>\n",
       "      <th>8</th>\n",
       "      <td>Brian Quick|WR|26.838484894215227</td>\n",
       "      <td>Brice Butler|WR|36.93054970896084</td>\n",
       "      <td>Bruce Ellington|WR|47.2038889973353</td>\n",
       "      <td>Calvin Ridley|WR|90.4353447527846</td>\n",
       "      <td>Cam Phillips|WR|89.79042485934612</td>\n",
       "      <td>Cameron Batson|WR|89.12992453588316</td>\n",
       "      <td>Christine Michael|RB|45.39501532008876</td>\n",
       "      <td>Corey Clement|RB|114.73436482657603</td>\n",
       "      <td>Corey Grant|RB|34.55829175195237</td>\n",
       "      <td>Colt McCoy|QB|33.075084069443754</td>\n",
       "      <td>D'Onta Foreman|RB|95.82231845288466</td>\n",
       "      <td>Dalvin Cook|RB|82.59096559609331</td>\n",
       "    </tr>\n",
       "    <tr>\n",
       "      <th>9</th>\n",
       "      <td>Darren Sproles|RB|57.52691645252413</td>\n",
       "      <td>Chester Rogers|WR|40.22380718405603</td>\n",
       "      <td>Charone Peake|WR|94.43296995930639</td>\n",
       "      <td>Chad Williams|WR|113.11373532691675</td>\n",
       "      <td>Chad Beebe|WR|102.7162960769286</td>\n",
       "      <td>Cameron Meredith|WR|40.05717974558477</td>\n",
       "      <td>Darrel Williams|RB|90.93075125592839</td>\n",
       "      <td>Darius Jackson|RB|116.21617626897786</td>\n",
       "      <td>Danny Vitale|RB|104.11924447729452</td>\n",
       "      <td>Dak Prescott|QB|161.01600307837143</td>\n",
       "      <td>Cooper Rush|QB|100.23948624658203</td>\n",
       "      <td>Damien Williams|RB|43.63882617588453</td>\n",
       "    </tr>\n",
       "    <tr>\n",
       "      <th>10</th>\n",
       "      <td>David Fluellen|RB|110.64067129714805</td>\n",
       "      <td>David Williams|RB|106.38296274359527</td>\n",
       "      <td>De'Angelo Henderson|RB|98.52187784531903</td>\n",
       "      <td>Chris Conley|WR|42.05122415722581</td>\n",
       "      <td>Chris Godwin|WR|70.79542103125686</td>\n",
       "      <td>De'Lance Turner|RB|92.16403283418644</td>\n",
       "      <td>DeShone Kizer|QB|89.99883221593893</td>\n",
       "      <td>Chris Hogan|WR|51.97605737473052</td>\n",
       "      <td>DeAndre Washington|RB|32.64356601580264</td>\n",
       "      <td>Chris Moore|WR|37.40233374936618</td>\n",
       "      <td>Christian Kirk|WR|142.2104274555792</td>\n",
       "      <td>Cody Core|WR|99.6599231494301</td>\n",
       "    </tr>\n",
       "    <tr>\n",
       "      <th>11</th>\n",
       "      <td>Corey Coleman|WR|31.40938303917265</td>\n",
       "      <td>Dontrell Hilliard|RB|90.4416276393218</td>\n",
       "      <td>Dion Lewis|RB|66.82732392502601</td>\n",
       "      <td>Devontae Booker|RB|44.88019880224732</td>\n",
       "      <td>Devonta Freeman|RB|76.21818408887934</td>\n",
       "      <td>Detrez Newsome|RB|106.38296274359527</td>\n",
       "      <td>Derrick Henry|RB|114.83148658810387</td>\n",
       "      <td>Cordarrelle Patterson|WR|34.53233312239498</td>\n",
       "      <td>Cooper Kupp|WR|122.900606872561</td>\n",
       "      <td>Cole Beasley|WR|69.08637557561006</td>\n",
       "      <td>Derek Watt|RB|129.82149152508487</td>\n",
       "      <td>Cody Latimer|WR|39.76173426738269</td>\n",
       "    </tr>\n",
       "    <tr>\n",
       "      <th>12</th>\n",
       "      <td>Doug Martin|RB|42.24710079709758</td>\n",
       "      <td>Duke Johnson|RB|83.69445287436004</td>\n",
       "      <td>Dwayne Washington|RB|28.146771064406128</td>\n",
       "      <td>Elijah McGuire|RB|135.60121301599642</td>\n",
       "      <td>Elijhaa Penny|RB|94.86698706420289</td>\n",
       "      <td>Corey Davis|WR|55.077485547109895</td>\n",
       "      <td>Courtland Sutton|WR|138.9769148969947</td>\n",
       "      <td>Curtis Samuel|WR|75.90309215058943</td>\n",
       "      <td>D.J. Moore|WR|113.4546581060056</td>\n",
       "      <td>DJ Chark|WR|95.57069762544499</td>\n",
       "      <td>DaeSean Hamilton|WR|103.57626329508646</td>\n",
       "      <td>Damiere Byrd|WR|118.9854491663679</td>\n",
       "    </tr>\n",
       "    <tr>\n",
       "      <th>13</th>\n",
       "      <td>Ito Smith|RB|128.49203797593114</td>\n",
       "      <td>Isaiah Crowell|RB|88.65924221662777</td>\n",
       "      <td>Gus Edwards|RB|132.3435990504489</td>\n",
       "      <td>Giovani Bernard|RB|58.30630264547265</td>\n",
       "      <td>Frank Gore|RB|65.59771982613505</td>\n",
       "      <td>Ezekiel Elliott|RB|72.72109628003102</td>\n",
       "      <td>Darren Waller|WR|49.74561268521606</td>\n",
       "      <td>Darius Jennings|WR|107.12649390345798</td>\n",
       "      <td>Dante Pettis|WR|142.12055828554378</td>\n",
       "      <td>Danny Amendola|WR|34.71284670969669</td>\n",
       "      <td>Daniel Brown|WR|135.1345069479904</td>\n",
       "      <td>Damion Ratley|WR|91.14345597169995</td>\n",
       "    </tr>\n",
       "  </tbody>\n",
       "</table>\n",
       "</div>"
      ],
      "text/plain": [
       "                                    Team 1  \\\n",
       "0      Aaron Rodgers|QB|231.22131152594648   \n",
       "1       Antonio Gates|TE|67.21283743567487   \n",
       "2       Austin Hooper|TE|67.09035278436768   \n",
       "3      Brock Osweiler|QB|54.98483254267569   \n",
       "4    Aldrick Robinson|WR|23.28859062739473   \n",
       "5       Andre Holmes|WR|31.933399576297273   \n",
       "6       Andre Roberts|WR|36.81888092323161   \n",
       "7   Breshad Perriman|WR|27.439970919175394   \n",
       "8        Brian Quick|WR|26.838484894215227   \n",
       "9      Darren Sproles|RB|57.52691645252413   \n",
       "10    David Fluellen|RB|110.64067129714805   \n",
       "11      Corey Coleman|WR|31.40938303917265   \n",
       "12        Doug Martin|RB|42.24710079709758   \n",
       "13         Ito Smith|RB|128.49203797593114   \n",
       "\n",
       "                                          Team 2  \\\n",
       "0              Andrew Luck|QB|208.06186627699375   \n",
       "1           Anthony Firkser|TE|66.80078022211082   \n",
       "2   Austin Seferian-Jenkins|TE|39.60590056697714   \n",
       "3               Brian Hoyer|QB|50.31070157619593   \n",
       "4            Alex Erickson|WR|26.342550059449067   \n",
       "5              Amari Cooper|WR|75.45619322920673   \n",
       "6           Anthony Miller|WR|144.76088648230237   \n",
       "7           Brandon Zylstra|WR|106.0495096023112   \n",
       "8              Brice Butler|WR|36.93054970896084   \n",
       "9            Chester Rogers|WR|40.22380718405603   \n",
       "10          David Williams|RB|106.38296274359527   \n",
       "11         Dontrell Hilliard|RB|90.4416276393218   \n",
       "12             Duke Johnson|RB|83.69445287436004   \n",
       "13           Isaiah Crowell|RB|88.65924221662777   \n",
       "\n",
       "                                      Team 3  \\\n",
       "0           Andy Dalton|QB|169.9124920183157   \n",
       "1            Alex Smith|TE|89.82613518755993   \n",
       "2        Ben Braunecker|TE|99.54738065479428   \n",
       "3       Brandon Weeden|QB|34.481911931654416   \n",
       "4           Allen Hurns|WR|50.66288023850325   \n",
       "5        Alshon Jeffery|WR|70.21314406653354   \n",
       "6        Antonio Brown|WR|112.22505398274235   \n",
       "7          Brandon Tate|WR|29.40655066750354   \n",
       "8        Bruce Ellington|WR|47.2038889973353   \n",
       "9         Charone Peake|WR|94.43296995930639   \n",
       "10  De'Angelo Henderson|RB|98.52187784531903   \n",
       "11           Dion Lewis|RB|66.82732392502601   \n",
       "12   Dwayne Washington|RB|28.146771064406128   \n",
       "13          Gus Edwards|RB|132.3435990504489   \n",
       "\n",
       "                                    Team 4  \\\n",
       "0     Baker Mayfield|QB|167.11874131061765   \n",
       "1         Alex Ellis|TE|106.91971293244912   \n",
       "2         Ben Koyack|TE|132.26041871366556   \n",
       "3       Austin Ekeler|RB|74.83663735368732   \n",
       "4        Allen Lazard|WR|89.79042485934612   \n",
       "5       Cody Kessler|QB|26.857478301450325   \n",
       "6   Antonio Callaway|WR|138.78059385102827   \n",
       "7       Brandon Powell|WR|91.0282512559284   \n",
       "8        Calvin Ridley|WR|90.4353447527846   \n",
       "9      Chad Williams|WR|113.11373532691675   \n",
       "10       Chris Conley|WR|42.05122415722581   \n",
       "11    Devontae Booker|RB|44.88019880224732   \n",
       "12    Elijah McGuire|RB|135.60121301599642   \n",
       "13    Giovani Bernard|RB|58.30630264547265   \n",
       "\n",
       "                                     Team 5  \\\n",
       "0   Ben Roethlisberger|QB|200.6361027059204   \n",
       "1           Alan Cross|TE|132.6177690377138   \n",
       "2           Ben Watson|TE|42.40390635082412   \n",
       "3      Anthony Sherman|RB|136.3074639125381   \n",
       "4       C.J. Beathard|QB|100.29581352673313   \n",
       "5      Allen Robinson|WR|45.851881066120576   \n",
       "6      Antony Auclair|WR|104.23357704112045   \n",
       "7     Brandon Marshall|WR|69.44052297434615   \n",
       "8         Cam Phillips|WR|89.79042485934612   \n",
       "9           Chad Beebe|WR|102.7162960769286   \n",
       "10        Chris Godwin|WR|70.79542103125686   \n",
       "11     Devonta Freeman|RB|76.21818408887934   \n",
       "12       Elijhaa Penny|RB|94.86698706420289   \n",
       "13          Frank Gore|RB|65.59771982613505   \n",
       "\n",
       "                                   Team 6  \\\n",
       "0        Aaron Jones|RB|78.19888609633476   \n",
       "1      Adam Shaheen|TE|102.69672567312769   \n",
       "2        Blake Bell|TE|106.45666065095067   \n",
       "3      Andy Janovich|RB|66.32880573454668   \n",
       "4        Cam Newton|QB|243.60075674558297   \n",
       "5       Chase Daniel|QB|47.14088117857091   \n",
       "6         Auden Tate|WR|94.16727351784827   \n",
       "7     Brandon LaFell|WR|59.54654442703869   \n",
       "8     Cameron Batson|WR|89.12992453588316   \n",
       "9   Cameron Meredith|WR|40.05717974558477   \n",
       "10   De'Lance Turner|RB|92.16403283418644   \n",
       "11   Detrez Newsome|RB|106.38296274359527   \n",
       "12      Corey Davis|WR|55.077485547109895   \n",
       "13   Ezekiel Elliott|RB|72.72109628003102   \n",
       "\n",
       "                                      Team 7  \\\n",
       "0            A.J. Green|WR|71.60875989881944   \n",
       "1           A.J. Derby|TE|24.300850543898463   \n",
       "2           Blake Jarwin|TE|52.3927636333433   \n",
       "3        Ameer Abdullah|RB|36.50461100277449   \n",
       "4         Carson Wentz|QB|109.00981057487553   \n",
       "5             C.J. Ham|RB|102.18879958095306   \n",
       "6          Austin Carr|WR|117.34934032674823   \n",
       "7   Christian McCaffrey|RB|75.78832140752961   \n",
       "8     Christine Michael|RB|45.39501532008876   \n",
       "9       Darrel Williams|RB|90.93075125592839   \n",
       "10        DeShone Kizer|QB|89.99883221593893   \n",
       "11       Derrick Henry|RB|114.83148658810387   \n",
       "12     Courtland Sutton|WR|138.9769148969947   \n",
       "13        Darren Waller|WR|49.74561268521606   \n",
       "\n",
       "                                        Team 8  \\\n",
       "0          Adam Humphries|WR|85.12504396723365   \n",
       "1           Alvin Kamara|RB|134.08732309035074   \n",
       "2           Brian Parker|TE|104.23357704112045   \n",
       "3             Dan Arnold|TE|108.14839313219176   \n",
       "4       Benny Cunningham|RB|42.551208580780774   \n",
       "5           C.J. Anderson|RB|60.57543680742187   \n",
       "6          Bradley Marquez|WR|93.6504438876405   \n",
       "7             Chris Ivory|RB|68.03024340874619   \n",
       "8          Corey Clement|RB|114.73436482657603   \n",
       "9         Darius Jackson|RB|116.21617626897786   \n",
       "10            Chris Hogan|WR|51.97605737473052   \n",
       "11  Cordarrelle Patterson|WR|34.53233312239498   \n",
       "12          Curtis Samuel|WR|75.90309215058943   \n",
       "13       Darius Jennings|WR|107.12649390345798   \n",
       "\n",
       "                                     Team 9  \\\n",
       "0         Adam Thielen|WR|97.79336738802571   \n",
       "1         Alfred Morris|RB|44.2328080874919   \n",
       "2          C.J. Uzomah|TE|42.66441621810433   \n",
       "3       Dalton Schultz|TE|91.30439928634827   \n",
       "4        Bilal Powell|RB|62.678161943268755   \n",
       "5           Chad Kelly|QB|97.72123323742039   \n",
       "6        Brandin Cooks|WR|93.10962117742822   \n",
       "7         Chris Carson|RB|93.67922026231504   \n",
       "8          Corey Grant|RB|34.55829175195237   \n",
       "9        Danny Vitale|RB|104.11924447729452   \n",
       "10  DeAndre Washington|RB|32.64356601580264   \n",
       "11          Cooper Kupp|WR|122.900606872561   \n",
       "12          D.J. Moore|WR|113.4546581060056   \n",
       "13       Dante Pettis|WR|142.12055828554378   \n",
       "\n",
       "                                 Team 10  \\\n",
       "0   Adrian Peterson|RB|67.21862349759215   \n",
       "1       Alfred Blue|RB|41.10076242810238   \n",
       "2     Cameron Brate|TE|47.54512227455725   \n",
       "3    Dallas Goedert|TE|67.65877926098307   \n",
       "4   Bradley Sowell|RB|103.43139750715284   \n",
       "5    Byron Marshall|RB|129.2211892744808   \n",
       "6     C.J. Prosise|RB|24.766013849098098   \n",
       "7    Chase Edmonds|RB|115.66333144417884   \n",
       "8       Colt McCoy|QB|33.075084069443754   \n",
       "9     Dak Prescott|QB|161.01600307837143   \n",
       "10      Chris Moore|WR|37.40233374936618   \n",
       "11     Cole Beasley|WR|69.08637557561006   \n",
       "12         DJ Chark|WR|95.57069762544499   \n",
       "13   Danny Amendola|WR|34.71284670969669   \n",
       "\n",
       "                                      Team 11  \\\n",
       "0           Alex Collins|RB|73.34595121255948   \n",
       "1         Albert Wilson|WR|57.790509292941636   \n",
       "2          Chris Herndon|TE|59.59824143792894   \n",
       "3             Cole Wick|TE|103.48926998368593   \n",
       "4            Chad Henne|QB|43.819032629577016   \n",
       "5            Brian Hill|RB|103.99172903268847   \n",
       "6   Cameron Artis-Payne|RB|28.983914332919515   \n",
       "7           Charles Clay|RB|36.22708413605252   \n",
       "8         D'Onta Foreman|RB|95.82231845288466   \n",
       "9           Cooper Rush|QB|100.23948624658203   \n",
       "10        Christian Kirk|WR|142.2104274555792   \n",
       "11           Derek Watt|RB|129.82149152508487   \n",
       "12     DaeSean Hamilton|WR|103.57626329508646   \n",
       "13          Daniel Brown|WR|135.1345069479904   \n",
       "\n",
       "                                    Team 12  \n",
       "0       Blaine Gabbert|QB|37.96882755886905  \n",
       "1         Blake Bortles|QB|186.252341134978  \n",
       "2      Chris Manhertz|TE|101.46238617385109  \n",
       "3        Clive Walford|TE|31.53820246781596  \n",
       "4      Brandon Bolden|RB|25.003733149475732  \n",
       "5       Brandon Wilds|RB|105.19752870082299  \n",
       "6           Carlos Hyde|RB|70.3869572937952  \n",
       "7   Charcandrick West|RB|39.584954472473335  \n",
       "8          Dalvin Cook|RB|82.59096559609331  \n",
       "9      Damien Williams|RB|43.63882617588453  \n",
       "10            Cody Core|WR|99.6599231494301  \n",
       "11        Cody Latimer|WR|39.76173426738269  \n",
       "12        Damiere Byrd|WR|118.9854491663679  \n",
       "13       Damion Ratley|WR|91.14345597169995  "
      ]
     },
     "execution_count": 10,
     "metadata": {},
     "output_type": "execute_result"
    }
   ],
   "source": [
    "pd.DataFrame({\"Team \" + str(i + 1): r for i, r in enumerate(state.rosters)})\n"
   ]
  },
  {
   "cell_type": "code",
   "execution_count": 11,
   "metadata": {},
   "outputs": [
    {
     "data": {
      "text/plain": [
       "Aaron Rodgers|QB|231.22131152594648"
      ]
     },
     "execution_count": 11,
     "metadata": {},
     "output_type": "execute_result"
    }
   ],
   "source": [
    "state.rosters[0][0]"
   ]
  },
  {
   "cell_type": "code",
   "execution_count": null,
   "metadata": {},
   "outputs": [],
   "source": []
  }
 ],
 "metadata": {
  "kernelspec": {
   "display_name": "Python 3",
   "language": "python",
   "name": "python3"
  },
  "language_info": {
   "codemirror_mode": {
    "name": "ipython",
    "version": 3
   },
   "file_extension": ".py",
   "mimetype": "text/x-python",
   "name": "python",
   "nbconvert_exporter": "python",
   "pygments_lexer": "ipython3",
   "version": "3.6.8"
  }
 },
 "nbformat": 4,
 "nbformat_minor": 2
}
